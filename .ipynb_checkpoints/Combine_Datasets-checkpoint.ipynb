{
 "cells": [
  {
   "cell_type": "code",
   "execution_count": 33,
   "metadata": {
    "ExecuteTime": {
     "end_time": "2020-05-03T22:34:00.490409Z",
     "start_time": "2020-05-03T22:34:00.486387Z"
    }
   },
   "outputs": [],
   "source": [
    "# Import Dependencies\n",
    "import numpy as np\n",
    "import pandas as pd\n",
    "import os"
   ]
  },
  {
   "cell_type": "markdown",
   "metadata": {},
   "source": [
    "## Import and Check Chicago Crime Datasets"
   ]
  },
  {
   "cell_type": "code",
   "execution_count": 34,
   "metadata": {
    "ExecuteTime": {
     "end_time": "2020-05-03T22:34:11.501143Z",
     "start_time": "2020-05-03T22:34:07.384044Z"
    }
   },
   "outputs": [
    {
     "data": {
      "text/html": [
       "<div>\n",
       "<style scoped>\n",
       "    .dataframe tbody tr th:only-of-type {\n",
       "        vertical-align: middle;\n",
       "    }\n",
       "\n",
       "    .dataframe tbody tr th {\n",
       "        vertical-align: top;\n",
       "    }\n",
       "\n",
       "    .dataframe thead th {\n",
       "        text-align: right;\n",
       "    }\n",
       "</style>\n",
       "<table border=\"1\" class=\"dataframe\">\n",
       "  <thead>\n",
       "    <tr style=\"text-align: right;\">\n",
       "      <th></th>\n",
       "      <th>id</th>\n",
       "      <th>date</th>\n",
       "      <th>day</th>\n",
       "      <th>month</th>\n",
       "      <th>year</th>\n",
       "      <th>time</th>\n",
       "      <th>hour</th>\n",
       "      <th>month_day</th>\n",
       "      <th>day_of_week</th>\n",
       "      <th>district</th>\n",
       "      <th>...</th>\n",
       "      <th>location_description</th>\n",
       "      <th>x_coordinate</th>\n",
       "      <th>y_coordinate</th>\n",
       "      <th>iucr</th>\n",
       "      <th>fbi_code</th>\n",
       "      <th>primary_type</th>\n",
       "      <th>domestic</th>\n",
       "      <th>latitude</th>\n",
       "      <th>longitude</th>\n",
       "      <th>arrest</th>\n",
       "    </tr>\n",
       "  </thead>\n",
       "  <tbody>\n",
       "    <tr>\n",
       "      <th>0</th>\n",
       "      <td>10819224</td>\n",
       "      <td>2016-12-31T23:59:00.000</td>\n",
       "      <td>31</td>\n",
       "      <td>12</td>\n",
       "      <td>2016</td>\n",
       "      <td>23:59:00.000</td>\n",
       "      <td>23</td>\n",
       "      <td>1231</td>\n",
       "      <td>5</td>\n",
       "      <td>16</td>\n",
       "      <td>...</td>\n",
       "      <td>AIRPORT BUILDING NON-TERMINAL - SECURE AREA</td>\n",
       "      <td>1100658</td>\n",
       "      <td>1934241</td>\n",
       "      <td>0810</td>\n",
       "      <td>06</td>\n",
       "      <td>THEFT</td>\n",
       "      <td>False</td>\n",
       "      <td>41.976290</td>\n",
       "      <td>-87.905227</td>\n",
       "      <td>False</td>\n",
       "    </tr>\n",
       "    <tr>\n",
       "      <th>1</th>\n",
       "      <td>10801137</td>\n",
       "      <td>2016-12-31T23:58:00.000</td>\n",
       "      <td>31</td>\n",
       "      <td>12</td>\n",
       "      <td>2016</td>\n",
       "      <td>23:58:00.000</td>\n",
       "      <td>23</td>\n",
       "      <td>1231</td>\n",
       "      <td>5</td>\n",
       "      <td>5</td>\n",
       "      <td>...</td>\n",
       "      <td>RESIDENCE</td>\n",
       "      <td>1178014</td>\n",
       "      <td>1829709</td>\n",
       "      <td>0430</td>\n",
       "      <td>04B</td>\n",
       "      <td>BATTERY</td>\n",
       "      <td>False</td>\n",
       "      <td>41.688033</td>\n",
       "      <td>-87.623931</td>\n",
       "      <td>False</td>\n",
       "    </tr>\n",
       "    <tr>\n",
       "      <th>2</th>\n",
       "      <td>10801110</td>\n",
       "      <td>2016-12-31T23:55:00.000</td>\n",
       "      <td>31</td>\n",
       "      <td>12</td>\n",
       "      <td>2016</td>\n",
       "      <td>23:55:00.000</td>\n",
       "      <td>23</td>\n",
       "      <td>1231</td>\n",
       "      <td>5</td>\n",
       "      <td>19</td>\n",
       "      <td>...</td>\n",
       "      <td>RESIDENCE</td>\n",
       "      <td>1166154</td>\n",
       "      <td>1920300</td>\n",
       "      <td>2250</td>\n",
       "      <td>22</td>\n",
       "      <td>LIQUOR LAW VIOLATION</td>\n",
       "      <td>False</td>\n",
       "      <td>41.936885</td>\n",
       "      <td>-87.664770</td>\n",
       "      <td>True</td>\n",
       "    </tr>\n",
       "    <tr>\n",
       "      <th>3</th>\n",
       "      <td>10802006</td>\n",
       "      <td>2016-12-31T23:55:00.000</td>\n",
       "      <td>31</td>\n",
       "      <td>12</td>\n",
       "      <td>2016</td>\n",
       "      <td>23:55:00.000</td>\n",
       "      <td>23</td>\n",
       "      <td>1231</td>\n",
       "      <td>5</td>\n",
       "      <td>1</td>\n",
       "      <td>...</td>\n",
       "      <td>HOTEL/MOTEL</td>\n",
       "      <td>1176964</td>\n",
       "      <td>1902140</td>\n",
       "      <td>0486</td>\n",
       "      <td>08B</td>\n",
       "      <td>BATTERY</td>\n",
       "      <td>True</td>\n",
       "      <td>41.886815</td>\n",
       "      <td>-87.625593</td>\n",
       "      <td>False</td>\n",
       "    </tr>\n",
       "    <tr>\n",
       "      <th>4</th>\n",
       "      <td>10801865</td>\n",
       "      <td>2016-12-31T23:54:00.000</td>\n",
       "      <td>31</td>\n",
       "      <td>12</td>\n",
       "      <td>2016</td>\n",
       "      <td>23:54:00.000</td>\n",
       "      <td>23</td>\n",
       "      <td>1231</td>\n",
       "      <td>5</td>\n",
       "      <td>6</td>\n",
       "      <td>...</td>\n",
       "      <td>RESIDENCE</td>\n",
       "      <td>1178949</td>\n",
       "      <td>1853139</td>\n",
       "      <td>1310</td>\n",
       "      <td>14</td>\n",
       "      <td>CRIMINAL DAMAGE</td>\n",
       "      <td>True</td>\n",
       "      <td>41.752307</td>\n",
       "      <td>-87.619798</td>\n",
       "      <td>False</td>\n",
       "    </tr>\n",
       "    <tr>\n",
       "      <th>...</th>\n",
       "      <td>...</td>\n",
       "      <td>...</td>\n",
       "      <td>...</td>\n",
       "      <td>...</td>\n",
       "      <td>...</td>\n",
       "      <td>...</td>\n",
       "      <td>...</td>\n",
       "      <td>...</td>\n",
       "      <td>...</td>\n",
       "      <td>...</td>\n",
       "      <td>...</td>\n",
       "      <td>...</td>\n",
       "      <td>...</td>\n",
       "      <td>...</td>\n",
       "      <td>...</td>\n",
       "      <td>...</td>\n",
       "      <td>...</td>\n",
       "      <td>...</td>\n",
       "      <td>...</td>\n",
       "      <td>...</td>\n",
       "      <td>...</td>\n",
       "    </tr>\n",
       "    <tr>\n",
       "      <th>260100</th>\n",
       "      <td>11459757</td>\n",
       "      <td>2018-01-01T00:00:00.000</td>\n",
       "      <td>1</td>\n",
       "      <td>1</td>\n",
       "      <td>2018</td>\n",
       "      <td>00:00:00.000</td>\n",
       "      <td>0</td>\n",
       "      <td>102</td>\n",
       "      <td>0</td>\n",
       "      <td>9</td>\n",
       "      <td>...</td>\n",
       "      <td>RESIDENCE</td>\n",
       "      <td>1166099</td>\n",
       "      <td>1874550</td>\n",
       "      <td>1752</td>\n",
       "      <td>20</td>\n",
       "      <td>OFFENSE INVOLVING CHILDREN</td>\n",
       "      <td>False</td>\n",
       "      <td>41.811344</td>\n",
       "      <td>-87.666279</td>\n",
       "      <td>False</td>\n",
       "    </tr>\n",
       "    <tr>\n",
       "      <th>260101</th>\n",
       "      <td>11315895</td>\n",
       "      <td>2018-01-01T00:00:00.000</td>\n",
       "      <td>1</td>\n",
       "      <td>1</td>\n",
       "      <td>2018</td>\n",
       "      <td>00:00:00.000</td>\n",
       "      <td>0</td>\n",
       "      <td>102</td>\n",
       "      <td>0</td>\n",
       "      <td>7</td>\n",
       "      <td>...</td>\n",
       "      <td>RESIDENCE</td>\n",
       "      <td>1167400</td>\n",
       "      <td>1863456</td>\n",
       "      <td>1153</td>\n",
       "      <td>11</td>\n",
       "      <td>DECEPTIVE PRACTICE</td>\n",
       "      <td>False</td>\n",
       "      <td>41.780873</td>\n",
       "      <td>-87.661825</td>\n",
       "      <td>False</td>\n",
       "    </tr>\n",
       "    <tr>\n",
       "      <th>260102</th>\n",
       "      <td>11196173</td>\n",
       "      <td>2018-01-01T00:00:00.000</td>\n",
       "      <td>1</td>\n",
       "      <td>1</td>\n",
       "      <td>2018</td>\n",
       "      <td>00:00:00.000</td>\n",
       "      <td>0</td>\n",
       "      <td>102</td>\n",
       "      <td>0</td>\n",
       "      <td>8</td>\n",
       "      <td>...</td>\n",
       "      <td>RESIDENCE</td>\n",
       "      <td>1154348</td>\n",
       "      <td>1854412</td>\n",
       "      <td>1152</td>\n",
       "      <td>11</td>\n",
       "      <td>DECEPTIVE PRACTICE</td>\n",
       "      <td>False</td>\n",
       "      <td>41.756325</td>\n",
       "      <td>-87.709916</td>\n",
       "      <td>False</td>\n",
       "    </tr>\n",
       "    <tr>\n",
       "      <th>260103</th>\n",
       "      <td>11533503</td>\n",
       "      <td>2018-01-01T00:00:00.000</td>\n",
       "      <td>1</td>\n",
       "      <td>1</td>\n",
       "      <td>2018</td>\n",
       "      <td>00:00:00.000</td>\n",
       "      <td>0</td>\n",
       "      <td>102</td>\n",
       "      <td>0</td>\n",
       "      <td>5</td>\n",
       "      <td>...</td>\n",
       "      <td>RESIDENCE</td>\n",
       "      <td>1182298</td>\n",
       "      <td>1817141</td>\n",
       "      <td>1562</td>\n",
       "      <td>17</td>\n",
       "      <td>SEX OFFENSE</td>\n",
       "      <td>True</td>\n",
       "      <td>41.653447</td>\n",
       "      <td>-87.608635</td>\n",
       "      <td>False</td>\n",
       "    </tr>\n",
       "    <tr>\n",
       "      <th>260104</th>\n",
       "      <td>11479066</td>\n",
       "      <td>2018-01-01T00:00:00.000</td>\n",
       "      <td>1</td>\n",
       "      <td>1</td>\n",
       "      <td>2018</td>\n",
       "      <td>00:00:00.000</td>\n",
       "      <td>0</td>\n",
       "      <td>102</td>\n",
       "      <td>0</td>\n",
       "      <td>2</td>\n",
       "      <td>...</td>\n",
       "      <td>RESIDENCE</td>\n",
       "      <td>1182037</td>\n",
       "      <td>1874422</td>\n",
       "      <td>2826</td>\n",
       "      <td>26</td>\n",
       "      <td>OTHER OFFENSE</td>\n",
       "      <td>False</td>\n",
       "      <td>41.810639</td>\n",
       "      <td>-87.607823</td>\n",
       "      <td>False</td>\n",
       "    </tr>\n",
       "  </tbody>\n",
       "</table>\n",
       "<p>787901 rows × 25 columns</p>\n",
       "</div>"
      ],
      "text/plain": [
       "              id                     date  day  month  year          time  \\\n",
       "0       10819224  2016-12-31T23:59:00.000   31     12  2016  23:59:00.000   \n",
       "1       10801137  2016-12-31T23:58:00.000   31     12  2016  23:58:00.000   \n",
       "2       10801110  2016-12-31T23:55:00.000   31     12  2016  23:55:00.000   \n",
       "3       10802006  2016-12-31T23:55:00.000   31     12  2016  23:55:00.000   \n",
       "4       10801865  2016-12-31T23:54:00.000   31     12  2016  23:54:00.000   \n",
       "...          ...                      ...  ...    ...   ...           ...   \n",
       "260100  11459757  2018-01-01T00:00:00.000    1      1  2018  00:00:00.000   \n",
       "260101  11315895  2018-01-01T00:00:00.000    1      1  2018  00:00:00.000   \n",
       "260102  11196173  2018-01-01T00:00:00.000    1      1  2018  00:00:00.000   \n",
       "260103  11533503  2018-01-01T00:00:00.000    1      1  2018  00:00:00.000   \n",
       "260104  11479066  2018-01-01T00:00:00.000    1      1  2018  00:00:00.000   \n",
       "\n",
       "        hour  month_day  day_of_week  district  ...  \\\n",
       "0         23       1231            5        16  ...   \n",
       "1         23       1231            5         5  ...   \n",
       "2         23       1231            5        19  ...   \n",
       "3         23       1231            5         1  ...   \n",
       "4         23       1231            5         6  ...   \n",
       "...      ...        ...          ...       ...  ...   \n",
       "260100     0        102            0         9  ...   \n",
       "260101     0        102            0         7  ...   \n",
       "260102     0        102            0         8  ...   \n",
       "260103     0        102            0         5  ...   \n",
       "260104     0        102            0         2  ...   \n",
       "\n",
       "                               location_description  x_coordinate  \\\n",
       "0       AIRPORT BUILDING NON-TERMINAL - SECURE AREA       1100658   \n",
       "1                                         RESIDENCE       1178014   \n",
       "2                                         RESIDENCE       1166154   \n",
       "3                                       HOTEL/MOTEL       1176964   \n",
       "4                                         RESIDENCE       1178949   \n",
       "...                                             ...           ...   \n",
       "260100                                    RESIDENCE       1166099   \n",
       "260101                                    RESIDENCE       1167400   \n",
       "260102                                    RESIDENCE       1154348   \n",
       "260103                                    RESIDENCE       1182298   \n",
       "260104                                    RESIDENCE       1182037   \n",
       "\n",
       "        y_coordinate  iucr fbi_code                primary_type  domestic  \\\n",
       "0            1934241  0810       06                       THEFT     False   \n",
       "1            1829709  0430      04B                     BATTERY     False   \n",
       "2            1920300  2250       22        LIQUOR LAW VIOLATION     False   \n",
       "3            1902140  0486      08B                     BATTERY      True   \n",
       "4            1853139  1310       14             CRIMINAL DAMAGE      True   \n",
       "...              ...   ...      ...                         ...       ...   \n",
       "260100       1874550  1752       20  OFFENSE INVOLVING CHILDREN     False   \n",
       "260101       1863456  1153       11          DECEPTIVE PRACTICE     False   \n",
       "260102       1854412  1152       11          DECEPTIVE PRACTICE     False   \n",
       "260103       1817141  1562       17                 SEX OFFENSE      True   \n",
       "260104       1874422  2826       26               OTHER OFFENSE     False   \n",
       "\n",
       "         latitude  longitude arrest  \n",
       "0       41.976290 -87.905227  False  \n",
       "1       41.688033 -87.623931  False  \n",
       "2       41.936885 -87.664770   True  \n",
       "3       41.886815 -87.625593  False  \n",
       "4       41.752307 -87.619798  False  \n",
       "...           ...        ...    ...  \n",
       "260100  41.811344 -87.666279  False  \n",
       "260101  41.780873 -87.661825  False  \n",
       "260102  41.756325 -87.709916  False  \n",
       "260103  41.653447 -87.608635  False  \n",
       "260104  41.810639 -87.607823  False  \n",
       "\n",
       "[787901 rows x 25 columns]"
      ]
     },
     "execution_count": 34,
     "metadata": {},
     "output_type": "execute_result"
    }
   ],
   "source": [
    "# Import 2016 - 2019 crime data\n",
    "crime_2016 = os.path.join(\"Resources\", \"crime_clean_2016.csv\") \n",
    "crime_2017 = os.path.join(\"Resources\", \"crime_clean_2017.csv\") \n",
    "crime_2018 = os.path.join(\"Resources\", \"crime_clean_2018.csv\")\n",
    "\n",
    "crime_2016_df_final = pd.read_csv(crime_2016)\n",
    "crime_2017_df_final = pd.read_csv(crime_2017)\n",
    "crime_2018_df_final = pd.read_csv(crime_2018)\n",
    "\n",
    "join1 = crime_2016_df_final.append(crime_2017_df_final)\n",
    "training_df = join1.append(crime_2018_df_final)\n",
    "training_df.head()"
   ]
  },
  {
   "cell_type": "code",
   "execution_count": 35,
   "metadata": {
    "ExecuteTime": {
     "end_time": "2020-05-03T22:34:34.973026Z",
     "start_time": "2020-05-03T22:34:34.951083Z"
    }
   },
   "outputs": [
    {
     "data": {
      "text/plain": [
       "False    631208\n",
       "True     156693\n",
       "Name: arrest, dtype: int64"
      ]
     },
     "execution_count": 35,
     "metadata": {},
     "output_type": "execute_result"
    }
   ],
   "source": [
    "training_df['arrest'].value_counts()"
   ]
  },
  {
   "cell_type": "code",
   "execution_count": 36,
   "metadata": {
    "ExecuteTime": {
     "end_time": "2020-05-03T22:34:45.387840Z",
     "start_time": "2020-05-03T22:34:44.611947Z"
    },
    "scrolled": true
   },
   "outputs": [],
   "source": [
    "# Import 2019 crime data and prepare for testing\n",
    "crime_2019 = os.path.join(\"Resources\", \"crime_clean_2019.csv\") \n",
    "\n",
    "crime_2019_final_df = pd.read_csv(crime_2019)\n",
    "\n",
    "# crime_2019_final_df.head()"
   ]
  },
  {
   "cell_type": "code",
   "execution_count": 41,
   "metadata": {
    "ExecuteTime": {
     "end_time": "2020-05-03T22:40:23.225572Z",
     "start_time": "2020-05-03T22:40:23.166698Z"
    }
   },
   "outputs": [
    {
     "data": {
      "text/html": [
       "<div>\n",
       "<style scoped>\n",
       "    .dataframe tbody tr th:only-of-type {\n",
       "        vertical-align: middle;\n",
       "    }\n",
       "\n",
       "    .dataframe tbody tr th {\n",
       "        vertical-align: top;\n",
       "    }\n",
       "\n",
       "    .dataframe thead th {\n",
       "        text-align: right;\n",
       "    }\n",
       "</style>\n",
       "<table border=\"1\" class=\"dataframe\">\n",
       "  <thead>\n",
       "    <tr style=\"text-align: right;\">\n",
       "      <th></th>\n",
       "      <th>month</th>\n",
       "      <th>hour</th>\n",
       "      <th>day_of_week</th>\n",
       "      <th>district</th>\n",
       "      <th>block</th>\n",
       "      <th>ward</th>\n",
       "      <th>beat</th>\n",
       "      <th>community_area</th>\n",
       "      <th>location_description</th>\n",
       "      <th>fbi_code</th>\n",
       "      <th>primary_type</th>\n",
       "      <th>domestic</th>\n",
       "      <th>arrest</th>\n",
       "    </tr>\n",
       "  </thead>\n",
       "  <tbody>\n",
       "    <tr>\n",
       "      <th>0</th>\n",
       "      <td>12</td>\n",
       "      <td>23</td>\n",
       "      <td>5</td>\n",
       "      <td>16</td>\n",
       "      <td>30127</td>\n",
       "      <td>41</td>\n",
       "      <td>1651</td>\n",
       "      <td>76</td>\n",
       "      <td>3</td>\n",
       "      <td>7</td>\n",
       "      <td>32</td>\n",
       "      <td>0</td>\n",
       "      <td>0</td>\n",
       "    </tr>\n",
       "    <tr>\n",
       "      <th>1</th>\n",
       "      <td>12</td>\n",
       "      <td>23</td>\n",
       "      <td>5</td>\n",
       "      <td>5</td>\n",
       "      <td>408</td>\n",
       "      <td>34</td>\n",
       "      <td>522</td>\n",
       "      <td>49</td>\n",
       "      <td>124</td>\n",
       "      <td>5</td>\n",
       "      <td>2</td>\n",
       "      <td>0</td>\n",
       "      <td>0</td>\n",
       "    </tr>\n",
       "    <tr>\n",
       "      <th>2</th>\n",
       "      <td>12</td>\n",
       "      <td>23</td>\n",
       "      <td>5</td>\n",
       "      <td>19</td>\n",
       "      <td>13708</td>\n",
       "      <td>32</td>\n",
       "      <td>1932</td>\n",
       "      <td>6</td>\n",
       "      <td>124</td>\n",
       "      <td>23</td>\n",
       "      <td>16</td>\n",
       "      <td>0</td>\n",
       "      <td>1</td>\n",
       "    </tr>\n",
       "    <tr>\n",
       "      <th>3</th>\n",
       "      <td>12</td>\n",
       "      <td>23</td>\n",
       "      <td>5</td>\n",
       "      <td>1</td>\n",
       "      <td>187</td>\n",
       "      <td>42</td>\n",
       "      <td>111</td>\n",
       "      <td>32</td>\n",
       "      <td>93</td>\n",
       "      <td>10</td>\n",
       "      <td>2</td>\n",
       "      <td>1</td>\n",
       "      <td>0</td>\n",
       "    </tr>\n",
       "    <tr>\n",
       "      <th>4</th>\n",
       "      <td>12</td>\n",
       "      <td>23</td>\n",
       "      <td>5</td>\n",
       "      <td>6</td>\n",
       "      <td>27629</td>\n",
       "      <td>6</td>\n",
       "      <td>623</td>\n",
       "      <td>69</td>\n",
       "      <td>124</td>\n",
       "      <td>16</td>\n",
       "      <td>6</td>\n",
       "      <td>1</td>\n",
       "      <td>0</td>\n",
       "    </tr>\n",
       "  </tbody>\n",
       "</table>\n",
       "</div>"
      ],
      "text/plain": [
       "   month  hour  day_of_week  district  block  ward  beat  community_area  \\\n",
       "0     12    23            5        16  30127    41  1651              76   \n",
       "1     12    23            5         5    408    34   522              49   \n",
       "2     12    23            5        19  13708    32  1932               6   \n",
       "3     12    23            5         1    187    42   111              32   \n",
       "4     12    23            5         6  27629     6   623              69   \n",
       "\n",
       "   location_description  fbi_code  primary_type  domestic  arrest  \n",
       "0                     3         7            32         0       0  \n",
       "1                   124         5             2         0       0  \n",
       "2                   124        23            16         0       1  \n",
       "3                    93        10             2         1       0  \n",
       "4                   124        16             6         1       0  "
      ]
     },
     "execution_count": 41,
     "metadata": {},
     "output_type": "execute_result"
    }
   ],
   "source": [
    "training_df=(training_df[['month','hour','day_of_week','district','block','ward','beat','community_area',\n",
    "                                           'location_description','fbi_code','primary_type','domestic',\n",
    "                                           'arrest']])\n",
    "training_df.head()"
   ]
  },
  {
   "cell_type": "code",
   "execution_count": 42,
   "metadata": {
    "ExecuteTime": {
     "end_time": "2020-05-03T22:40:27.358512Z",
     "start_time": "2020-05-03T22:40:27.355518Z"
    }
   },
   "outputs": [],
   "source": [
    "from sklearn.model_selection import train_test_split\n",
    "from sklearn import tree\n",
    "from sklearn import preprocessing\n",
    "le = preprocessing.LabelEncoder()"
   ]
  },
  {
   "cell_type": "code",
   "execution_count": 44,
   "metadata": {
    "ExecuteTime": {
     "end_time": "2020-05-03T22:41:11.268335Z",
     "start_time": "2020-05-03T22:41:10.960160Z"
    }
   },
   "outputs": [
    {
     "name": "stderr",
     "output_type": "stream",
     "text": [
      "C:\\Users\\tmill\\AppData\\Local\\Continuum\\anaconda3\\envs\\PythonData\\lib\\site-packages\\ipykernel_launcher.py:1: SettingWithCopyWarning: \n",
      "A value is trying to be set on a copy of a slice from a DataFrame.\n",
      "Try using .loc[row_indexer,col_indexer] = value instead\n",
      "\n",
      "See the caveats in the documentation: http://pandas.pydata.org/pandas-docs/stable/user_guide/indexing.html#returning-a-view-versus-a-copy\n",
      "  \"\"\"Entry point for launching an IPython kernel.\n",
      "C:\\Users\\tmill\\AppData\\Local\\Continuum\\anaconda3\\envs\\PythonData\\lib\\site-packages\\ipykernel_launcher.py:2: SettingWithCopyWarning: \n",
      "A value is trying to be set on a copy of a slice from a DataFrame.\n",
      "Try using .loc[row_indexer,col_indexer] = value instead\n",
      "\n",
      "See the caveats in the documentation: http://pandas.pydata.org/pandas-docs/stable/user_guide/indexing.html#returning-a-view-versus-a-copy\n",
      "  \n",
      "C:\\Users\\tmill\\AppData\\Local\\Continuum\\anaconda3\\envs\\PythonData\\lib\\site-packages\\ipykernel_launcher.py:3: SettingWithCopyWarning: \n",
      "A value is trying to be set on a copy of a slice from a DataFrame.\n",
      "Try using .loc[row_indexer,col_indexer] = value instead\n",
      "\n",
      "See the caveats in the documentation: http://pandas.pydata.org/pandas-docs/stable/user_guide/indexing.html#returning-a-view-versus-a-copy\n",
      "  This is separate from the ipykernel package so we can avoid doing imports until\n",
      "C:\\Users\\tmill\\AppData\\Local\\Continuum\\anaconda3\\envs\\PythonData\\lib\\site-packages\\ipykernel_launcher.py:4: SettingWithCopyWarning: \n",
      "A value is trying to be set on a copy of a slice from a DataFrame.\n",
      "Try using .loc[row_indexer,col_indexer] = value instead\n",
      "\n",
      "See the caveats in the documentation: http://pandas.pydata.org/pandas-docs/stable/user_guide/indexing.html#returning-a-view-versus-a-copy\n",
      "  after removing the cwd from sys.path.\n",
      "C:\\Users\\tmill\\AppData\\Local\\Continuum\\anaconda3\\envs\\PythonData\\lib\\site-packages\\ipykernel_launcher.py:5: SettingWithCopyWarning: \n",
      "A value is trying to be set on a copy of a slice from a DataFrame.\n",
      "Try using .loc[row_indexer,col_indexer] = value instead\n",
      "\n",
      "See the caveats in the documentation: http://pandas.pydata.org/pandas-docs/stable/user_guide/indexing.html#returning-a-view-versus-a-copy\n",
      "  \"\"\"\n",
      "C:\\Users\\tmill\\AppData\\Local\\Continuum\\anaconda3\\envs\\PythonData\\lib\\site-packages\\ipykernel_launcher.py:6: SettingWithCopyWarning: \n",
      "A value is trying to be set on a copy of a slice from a DataFrame.\n",
      "Try using .loc[row_indexer,col_indexer] = value instead\n",
      "\n",
      "See the caveats in the documentation: http://pandas.pydata.org/pandas-docs/stable/user_guide/indexing.html#returning-a-view-versus-a-copy\n",
      "  \n"
     ]
    }
   ],
   "source": [
    "training_df['domestic'] = le.fit_transform(training_df['domestic'])\n",
    "training_df['block'] = le.fit_transform(training_df['block'])\n",
    "training_df['location_description'] = le.fit_transform(training_df['location_description'])\n",
    "training_df['primary_type'] = le.fit_transform(training_df['primary_type'])\n",
    "training_df['fbi_code'] = le.fit_transform(training_df['fbi_code'])\n",
    "training_df['arrest'] = le.fit_transform(training_df['arrest'])"
   ]
  },
  {
   "cell_type": "code",
   "execution_count": 45,
   "metadata": {
    "ExecuteTime": {
     "end_time": "2020-05-03T22:41:31.791026Z",
     "start_time": "2020-05-03T22:41:31.644422Z"
    }
   },
   "outputs": [],
   "source": [
    "# Assign X (data) and y (target)\n",
    "X = training_df.drop(\"arrest\", axis=1)\n",
    "y = training_df[\"arrest\"]"
   ]
  },
  {
   "cell_type": "code",
   "execution_count": 46,
   "metadata": {
    "ExecuteTime": {
     "end_time": "2020-05-03T22:41:38.175955Z",
     "start_time": "2020-05-03T22:41:38.159998Z"
    }
   },
   "outputs": [
    {
     "data": {
      "text/html": [
       "<div>\n",
       "<style scoped>\n",
       "    .dataframe tbody tr th:only-of-type {\n",
       "        vertical-align: middle;\n",
       "    }\n",
       "\n",
       "    .dataframe tbody tr th {\n",
       "        vertical-align: top;\n",
       "    }\n",
       "\n",
       "    .dataframe thead th {\n",
       "        text-align: right;\n",
       "    }\n",
       "</style>\n",
       "<table border=\"1\" class=\"dataframe\">\n",
       "  <thead>\n",
       "    <tr style=\"text-align: right;\">\n",
       "      <th></th>\n",
       "      <th>month</th>\n",
       "      <th>hour</th>\n",
       "      <th>day_of_week</th>\n",
       "      <th>district</th>\n",
       "      <th>block</th>\n",
       "      <th>ward</th>\n",
       "      <th>beat</th>\n",
       "      <th>community_area</th>\n",
       "      <th>location_description</th>\n",
       "      <th>fbi_code</th>\n",
       "      <th>primary_type</th>\n",
       "      <th>domestic</th>\n",
       "      <th>arrest</th>\n",
       "    </tr>\n",
       "  </thead>\n",
       "  <tbody>\n",
       "    <tr>\n",
       "      <th>0</th>\n",
       "      <td>12</td>\n",
       "      <td>23</td>\n",
       "      <td>5</td>\n",
       "      <td>16</td>\n",
       "      <td>30127</td>\n",
       "      <td>41</td>\n",
       "      <td>1651</td>\n",
       "      <td>76</td>\n",
       "      <td>3</td>\n",
       "      <td>7</td>\n",
       "      <td>32</td>\n",
       "      <td>0</td>\n",
       "      <td>0</td>\n",
       "    </tr>\n",
       "    <tr>\n",
       "      <th>1</th>\n",
       "      <td>12</td>\n",
       "      <td>23</td>\n",
       "      <td>5</td>\n",
       "      <td>5</td>\n",
       "      <td>408</td>\n",
       "      <td>34</td>\n",
       "      <td>522</td>\n",
       "      <td>49</td>\n",
       "      <td>124</td>\n",
       "      <td>5</td>\n",
       "      <td>2</td>\n",
       "      <td>0</td>\n",
       "      <td>0</td>\n",
       "    </tr>\n",
       "    <tr>\n",
       "      <th>2</th>\n",
       "      <td>12</td>\n",
       "      <td>23</td>\n",
       "      <td>5</td>\n",
       "      <td>19</td>\n",
       "      <td>13708</td>\n",
       "      <td>32</td>\n",
       "      <td>1932</td>\n",
       "      <td>6</td>\n",
       "      <td>124</td>\n",
       "      <td>23</td>\n",
       "      <td>16</td>\n",
       "      <td>0</td>\n",
       "      <td>1</td>\n",
       "    </tr>\n",
       "    <tr>\n",
       "      <th>3</th>\n",
       "      <td>12</td>\n",
       "      <td>23</td>\n",
       "      <td>5</td>\n",
       "      <td>1</td>\n",
       "      <td>187</td>\n",
       "      <td>42</td>\n",
       "      <td>111</td>\n",
       "      <td>32</td>\n",
       "      <td>93</td>\n",
       "      <td>10</td>\n",
       "      <td>2</td>\n",
       "      <td>1</td>\n",
       "      <td>0</td>\n",
       "    </tr>\n",
       "    <tr>\n",
       "      <th>4</th>\n",
       "      <td>12</td>\n",
       "      <td>23</td>\n",
       "      <td>5</td>\n",
       "      <td>6</td>\n",
       "      <td>27629</td>\n",
       "      <td>6</td>\n",
       "      <td>623</td>\n",
       "      <td>69</td>\n",
       "      <td>124</td>\n",
       "      <td>16</td>\n",
       "      <td>6</td>\n",
       "      <td>1</td>\n",
       "      <td>0</td>\n",
       "    </tr>\n",
       "  </tbody>\n",
       "</table>\n",
       "</div>"
      ],
      "text/plain": [
       "   month  hour  day_of_week  district  block  ward  beat  community_area  \\\n",
       "0     12    23            5        16  30127    41  1651              76   \n",
       "1     12    23            5         5    408    34   522              49   \n",
       "2     12    23            5        19  13708    32  1932               6   \n",
       "3     12    23            5         1    187    42   111              32   \n",
       "4     12    23            5         6  27629     6   623              69   \n",
       "\n",
       "   location_description  fbi_code  primary_type  domestic  arrest  \n",
       "0                     3         7            32         0       0  \n",
       "1                   124         5             2         0       0  \n",
       "2                   124        23            16         0       1  \n",
       "3                    93        10             2         1       0  \n",
       "4                   124        16             6         1       0  "
      ]
     },
     "execution_count": 46,
     "metadata": {},
     "output_type": "execute_result"
    }
   ],
   "source": [
    "training_df.head()"
   ]
  },
  {
   "cell_type": "code",
   "execution_count": 47,
   "metadata": {
    "ExecuteTime": {
     "end_time": "2020-05-03T22:41:43.506621Z",
     "start_time": "2020-05-03T22:41:43.485697Z"
    }
   },
   "outputs": [
    {
     "data": {
      "text/plain": [
       "0    631208\n",
       "1    156693\n",
       "Name: arrest, dtype: int64"
      ]
     },
     "execution_count": 47,
     "metadata": {},
     "output_type": "execute_result"
    }
   ],
   "source": [
    "training_df['arrest'].value_counts()"
   ]
  },
  {
   "cell_type": "code",
   "execution_count": 48,
   "metadata": {
    "ExecuteTime": {
     "end_time": "2020-05-03T22:41:47.210999Z",
     "start_time": "2020-05-03T22:41:47.207012Z"
    }
   },
   "outputs": [
    {
     "name": "stdout",
     "output_type": "stream",
     "text": [
      "X Shape: (787901, 12)\n",
      "y Shape: (787901,)\n"
     ]
    }
   ],
   "source": [
    "print('X Shape:', X.shape)\n",
    "print('y Shape:', y.shape)"
   ]
  },
  {
   "cell_type": "code",
   "execution_count": 49,
   "metadata": {
    "ExecuteTime": {
     "end_time": "2020-05-03T22:41:50.877276Z",
     "start_time": "2020-05-03T22:41:50.726652Z"
    }
   },
   "outputs": [],
   "source": [
    "# Split data into test/train set (70/30 split)\n",
    "X_train, X_test, y_train, y_test = train_test_split(X,y, test_size = 0.3, random_state = 42)"
   ]
  },
  {
   "cell_type": "code",
   "execution_count": 50,
   "metadata": {
    "ExecuteTime": {
     "end_time": "2020-05-03T22:41:54.250191Z",
     "start_time": "2020-05-03T22:41:54.245204Z"
    }
   },
   "outputs": [
    {
     "name": "stdout",
     "output_type": "stream",
     "text": [
      "Training X Shape: (551530, 12)\n",
      "Training y Shape: (551530,)\n",
      "Testing X Shape: (236371, 12)\n",
      "Testing y Shape: (236371,)\n"
     ]
    }
   ],
   "source": [
    "print('Training X Shape:', X_train.shape)\n",
    "print('Training y Shape:', y_train.shape)\n",
    "print('Testing X Shape:', X_test.shape)\n",
    "print('Testing y Shape:', y_test.shape)\n"
   ]
  },
  {
   "cell_type": "code",
   "execution_count": 53,
   "metadata": {
    "ExecuteTime": {
     "end_time": "2020-05-03T22:47:13.434879Z",
     "start_time": "2020-05-03T22:47:08.845158Z"
    }
   },
   "outputs": [
    {
     "data": {
      "text/plain": [
       "0.8176722186731875"
      ]
     },
     "execution_count": 53,
     "metadata": {},
     "output_type": "execute_result"
    }
   ],
   "source": [
    "# Select Algorithm\n",
    "clf = tree.DecisionTreeClassifier()\n",
    "clf = clf.fit(X_train, y_train)\n",
    "clf.score(X_test, y_test)"
   ]
  },
  {
   "cell_type": "code",
   "execution_count": 63,
   "metadata": {
    "ExecuteTime": {
     "end_time": "2020-05-03T23:01:20.425224Z",
     "start_time": "2020-05-03T22:59:18.884742Z"
    }
   },
   "outputs": [
    {
     "data": {
      "text/plain": [
       "0.8843851403090903"
      ]
     },
     "execution_count": 63,
     "metadata": {},
     "output_type": "execute_result"
    }
   ],
   "source": [
    "from sklearn.ensemble import RandomForestClassifier\n",
    "rf = RandomForestClassifier(n_estimators=100, random_state=42)\n",
    "rf = rf.fit(X_train, y_train)\n",
    "rf.score(X_test, y_test)"
   ]
  },
  {
   "cell_type": "code",
   "execution_count": 64,
   "metadata": {
    "ExecuteTime": {
     "end_time": "2020-05-03T23:01:23.970123Z",
     "start_time": "2020-05-03T23:01:23.841432Z"
    }
   },
   "outputs": [
    {
     "data": {
      "text/plain": [
       "[(0.23408701501602863, 'fbi_code'),\n",
       " (0.12896828067805002, 'block'),\n",
       " (0.10529748288425543, 'primary_type'),\n",
       " (0.10324065136777959, 'location_description'),\n",
       " (0.09281146463805497, 'hour'),\n",
       " (0.08018547549416588, 'month'),\n",
       " (0.07304367933789507, 'beat'),\n",
       " (0.06485573647016309, 'day_of_week'),\n",
       " (0.040209087265355145, 'community_area'),\n",
       " (0.03949449127913942, 'ward'),\n",
       " (0.01996972225404544, 'district'),\n",
       " (0.017836913315067295, 'domestic')]"
      ]
     },
     "execution_count": 64,
     "metadata": {},
     "output_type": "execute_result"
    }
   ],
   "source": [
    "sorted(zip(rf.feature_importances_, X), reverse=True)"
   ]
  },
  {
   "cell_type": "code",
   "execution_count": null,
   "metadata": {
    "ExecuteTime": {
     "end_time": "2020-05-02T16:14:08.849667Z",
     "start_time": "2020-05-02T16:14:08.799766Z"
    }
   },
   "outputs": [],
   "source": [
    "\n"
   ]
  },
  {
   "cell_type": "code",
   "execution_count": null,
   "metadata": {
    "ExecuteTime": {
     "end_time": "2020-05-02T16:14:23.889292Z",
     "start_time": "2020-05-02T16:14:21.423452Z"
    }
   },
   "outputs": [],
   "source": []
  },
  {
   "cell_type": "code",
   "execution_count": null,
   "metadata": {},
   "outputs": [],
   "source": []
  }
 ],
 "metadata": {
  "kernelspec": {
   "display_name": "Python 3",
   "language": "python",
   "name": "python3"
  },
  "language_info": {
   "codemirror_mode": {
    "name": "ipython",
    "version": 3
   },
   "file_extension": ".py",
   "mimetype": "text/x-python",
   "name": "python",
   "nbconvert_exporter": "python",
   "pygments_lexer": "ipython3",
   "version": "3.6.9"
  },
  "varInspector": {
   "cols": {
    "lenName": 16,
    "lenType": 16,
    "lenVar": 40
   },
   "kernels_config": {
    "python": {
     "delete_cmd_postfix": "",
     "delete_cmd_prefix": "del ",
     "library": "var_list.py",
     "varRefreshCmd": "print(var_dic_list())"
    },
    "r": {
     "delete_cmd_postfix": ") ",
     "delete_cmd_prefix": "rm(",
     "library": "var_list.r",
     "varRefreshCmd": "cat(var_dic_list()) "
    }
   },
   "types_to_exclude": [
    "module",
    "function",
    "builtin_function_or_method",
    "instance",
    "_Feature"
   ],
   "window_display": false
  }
 },
 "nbformat": 4,
 "nbformat_minor": 2
}
