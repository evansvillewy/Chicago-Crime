{
 "cells": [
  {
   "cell_type": "code",
   "execution_count": null,
   "metadata": {
    "ExecuteTime": {
     "end_time": "2020-05-04T21:54:13.056526Z",
     "start_time": "2020-05-04T21:54:11.561441Z"
    }
   },
   "outputs": [],
   "source": [
    "# Import Dependencies\n",
    "import numpy as np\n",
    "import pandas as pd\n",
    "import os\n",
    "import joblib"
   ]
  },
  {
   "cell_type": "markdown",
   "metadata": {},
   "source": [
    "## Import and Check Chicago Crime Datasets"
   ]
  },
  {
   "cell_type": "code",
   "execution_count": null,
   "metadata": {
    "ExecuteTime": {
     "end_time": "2020-05-04T21:54:20.572956Z",
     "start_time": "2020-05-04T21:54:13.871008Z"
    }
   },
   "outputs": [],
   "source": [
    "# Import 2016 - 2019 crime data\n",
    "crime_2016 = os.path.join(\"..\",\"Resources\", \"crime_clean_2016.csv\") \n",
    "crime_2017 = os.path.join(\"..\",\"Resources\", \"crime_clean_2017.csv\") \n",
    "crime_2018 = os.path.join(\"..\",\"Resources\", \"crime_clean_2018.csv\")\n",
    "\n",
    "crime_2016_df_final = pd.read_csv(crime_2016)\n",
    "crime_2017_df_final = pd.read_csv(crime_2017)\n",
    "crime_2018_df_final = pd.read_csv(crime_2018)\n",
    "\n",
    "join1 = crime_2016_df_final.append(crime_2017_df_final)\n",
    "training_df = join1.append(crime_2018_df_final)\n",
    "training_df.head()"
   ]
  },
  {
   "cell_type": "code",
   "execution_count": null,
   "metadata": {
    "ExecuteTime": {
     "end_time": "2020-05-04T21:54:22.197450Z",
     "start_time": "2020-05-04T21:54:22.172600Z"
    }
   },
   "outputs": [],
   "source": [
    "training_df['arrest'].value_counts()"
   ]
  },
  {
   "cell_type": "code",
   "execution_count": null,
   "metadata": {
    "ExecuteTime": {
     "end_time": "2020-05-04T21:54:43.523563Z",
     "start_time": "2020-05-04T21:54:41.785556Z"
    },
    "scrolled": true
   },
   "outputs": [],
   "source": [
    "# Import 2019 crime data and prepare for testing\n",
    "crime_2019 = os.path.join(\"..\",\"Resources\", \"crime_clean_2019.csv\") \n",
    "\n",
    "crime_2019_final_df = pd.read_csv(crime_2019)\n",
    "\n",
    "# crime_2019_final_df.head()"
   ]
  },
  {
   "cell_type": "code",
   "execution_count": null,
   "metadata": {
    "ExecuteTime": {
     "end_time": "2020-05-04T21:54:45.636926Z",
     "start_time": "2020-05-04T21:54:45.518556Z"
    }
   },
   "outputs": [],
   "source": [
    "training_df=(training_df[['month','hour','day_of_week','district','block','ward','beat','community_area',\n",
    "                                           'location_description','fbi_code','primary_type','domestic',\n",
    "                                           'arrest']])\n",
    "training_df.head()"
   ]
  },
  {
   "cell_type": "code",
   "execution_count": null,
   "metadata": {
    "ExecuteTime": {
     "end_time": "2020-05-04T21:54:48.527676Z",
     "start_time": "2020-05-04T21:54:46.725639Z"
    }
   },
   "outputs": [],
   "source": [
    "from sklearn.model_selection import train_test_split\n",
    "from sklearn import tree\n",
    "from sklearn import preprocessing\n",
    "le = preprocessing.LabelEncoder()"
   ]
  },
  {
   "cell_type": "code",
   "execution_count": null,
   "metadata": {
    "ExecuteTime": {
     "end_time": "2020-05-04T21:54:51.524099Z",
     "start_time": "2020-05-04T21:54:49.518274Z"
    }
   },
   "outputs": [],
   "source": [
    "training_df['domestic'] = le.fit_transform(training_df['domestic'])\n",
    "training_df['block'] = le.fit_transform(training_df['block'])\n",
    "training_df['location_description'] = le.fit_transform(training_df['location_description'])\n",
    "training_df['primary_type'] = le.fit_transform(training_df['primary_type'])\n",
    "training_df['fbi_code'] = le.fit_transform(training_df['fbi_code'])\n",
    "training_df['arrest'] = le.fit_transform(training_df['arrest'])"
   ]
  },
  {
   "cell_type": "code",
   "execution_count": null,
   "metadata": {
    "ExecuteTime": {
     "end_time": "2020-05-04T21:54:53.206193Z",
     "start_time": "2020-05-04T21:54:52.967558Z"
    }
   },
   "outputs": [],
   "source": [
    "# Assign X (data) and y (target)\n",
    "X = training_df.drop(\"arrest\", axis=1)\n",
    "y = training_df[\"arrest\"]"
   ]
  },
  {
   "cell_type": "code",
   "execution_count": null,
   "metadata": {},
   "outputs": [],
   "source": [
    "X=X[['month','hour','day_of_week','location_description','primary_type']]"
   ]
  },
  {
   "cell_type": "code",
   "execution_count": null,
   "metadata": {
    "ExecuteTime": {
     "end_time": "2020-05-04T21:54:55.341220Z",
     "start_time": "2020-05-04T21:54:55.319771Z"
    }
   },
   "outputs": [],
   "source": [
    "training_df.head()"
   ]
  },
  {
   "cell_type": "code",
   "execution_count": null,
   "metadata": {
    "ExecuteTime": {
     "end_time": "2020-05-04T21:54:56.658813Z",
     "start_time": "2020-05-04T21:54:56.631652Z"
    }
   },
   "outputs": [],
   "source": [
    "training_df['arrest'].value_counts()"
   ]
  },
  {
   "cell_type": "code",
   "execution_count": null,
   "metadata": {
    "ExecuteTime": {
     "end_time": "2020-05-04T21:54:57.943071Z",
     "start_time": "2020-05-04T21:54:57.935554Z"
    },
    "scrolled": true
   },
   "outputs": [],
   "source": [
    "print('X Shape:', X.shape)\n",
    "print('y Shape:', y.shape)"
   ]
  },
  {
   "cell_type": "code",
   "execution_count": null,
   "metadata": {
    "ExecuteTime": {
     "end_time": "2020-05-04T21:55:01.037568Z",
     "start_time": "2020-05-04T21:55:00.783856Z"
    }
   },
   "outputs": [],
   "source": [
    "# Split data into test/train set (70/30 split)\n",
    "X_train, X_test, y_train, y_test = train_test_split(X,y, test_size = 0.3, random_state = 42)"
   ]
  },
  {
   "cell_type": "code",
   "execution_count": null,
   "metadata": {
    "ExecuteTime": {
     "end_time": "2020-05-04T21:55:02.182256Z",
     "start_time": "2020-05-04T21:55:02.169254Z"
    }
   },
   "outputs": [],
   "source": [
    "print('Training X Shape:', X_train.shape)\n",
    "print('Training y Shape:', y_train.shape)\n",
    "print('Testing X Shape:', X_test.shape)\n",
    "print('Testing y Shape:', y_test.shape)\n"
   ]
  },
  {
   "cell_type": "code",
   "execution_count": null,
   "metadata": {
    "ExecuteTime": {
     "end_time": "2020-05-04T21:55:14.978855Z",
     "start_time": "2020-05-04T21:55:03.290814Z"
    }
   },
   "outputs": [],
   "source": [
    "# Select Algorithm\n",
    "clf = tree.DecisionTreeClassifier()\n",
    "clf = clf.fit(X_train, y_train)\n",
    "clf.score(X_test, y_test)"
   ]
  },
  {
   "cell_type": "code",
   "execution_count": null,
   "metadata": {
    "ExecuteTime": {
     "end_time": "2020-05-04T21:59:55.198359Z",
     "start_time": "2020-05-04T21:55:21.854291Z"
    }
   },
   "outputs": [],
   "source": [
    "from sklearn.ensemble import RandomForestClassifier\n",
    "rf = RandomForestClassifier(n_estimators=100, random_state=42)\n",
    "rf = rf.fit(X_train, y_train)\n",
    "rf.score(X_test, y_test)"
   ]
  },
  {
   "cell_type": "code",
   "execution_count": null,
   "metadata": {
    "ExecuteTime": {
     "end_time": "2020-05-03T23:44:42.369954Z",
     "start_time": "2020-05-03T23:44:42.230332Z"
    }
   },
   "outputs": [],
   "source": [
    "feature_importance = sorted(zip(rf.feature_importances_, X), reverse=True)\n",
    "feature_importance"
   ]
  },
  {
   "cell_type": "code",
   "execution_count": null,
   "metadata": {
    "ExecuteTime": {
     "end_time": "2020-05-02T16:14:23.889292Z",
     "start_time": "2020-05-02T16:14:21.423452Z"
    }
   },
   "outputs": [],
   "source": [
    "# save the model to disk\n",
    "filename = 'RF_model.sav'\n",
    "joblib.dump(rf, filename,compress=3)"
   ]
  },
  {
   "cell_type": "code",
   "execution_count": null,
   "metadata": {},
   "outputs": [],
   "source": [
    "# Calculate classification report\n",
    "from sklearn.metrics import classification_report\n",
    "predictions = rf.predict(X_test)\n",
    "print(classification_report(y_test, predictions))"
   ]
  }
 ],
 "metadata": {
  "kernelspec": {
   "display_name": "Python 3",
   "language": "python",
   "name": "python3"
  },
  "language_info": {
   "codemirror_mode": {
    "name": "ipython",
    "version": 3
   },
   "file_extension": ".py",
   "mimetype": "text/x-python",
   "name": "python",
   "nbconvert_exporter": "python",
   "pygments_lexer": "ipython3",
   "version": "3.6.9"
  },
  "varInspector": {
   "cols": {
    "lenName": 16,
    "lenType": 16,
    "lenVar": 40
   },
   "kernels_config": {
    "python": {
     "delete_cmd_postfix": "",
     "delete_cmd_prefix": "del ",
     "library": "var_list.py",
     "varRefreshCmd": "print(var_dic_list())"
    },
    "r": {
     "delete_cmd_postfix": ") ",
     "delete_cmd_prefix": "rm(",
     "library": "var_list.r",
     "varRefreshCmd": "cat(var_dic_list()) "
    }
   },
   "types_to_exclude": [
    "module",
    "function",
    "builtin_function_or_method",
    "instance",
    "_Feature"
   ],
   "window_display": false
  }
 },
 "nbformat": 4,
 "nbformat_minor": 2
}
