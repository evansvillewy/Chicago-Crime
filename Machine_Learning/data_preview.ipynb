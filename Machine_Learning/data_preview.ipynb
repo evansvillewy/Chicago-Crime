{
 "cells": [
  {
   "cell_type": "code",
   "execution_count": 3,
   "metadata": {},
   "outputs": [],
   "source": [
    "import pandas as pd\n",
    "import os\n",
    "\n",
    "\n",
    "# Import 2016-2019 crime data\n",
    "crime_2016 = os.path.join(\"..\",\"Resources\", \"crime_clean_2016.csv\") \n",
    "\n",
    "crime_2016_df_final = pd.read_csv(crime_2016)\n",
    "\n",
    "crime_2016_df_final_subset = crime_2016_df_final.head(100)\n",
    "\n",
    "# render dataframe as html\n",
    "html = crime_2016_df_final_subset.to_html()\n",
    "\n",
    "#write html to file\n",
    "data_html_file = open(\"data.html\", \"w\")\n",
    "data_html_file.write(html)\n",
    "data_html_file.close()"
   ]
  }
 ],
 "metadata": {
  "kernelspec": {
   "display_name": "Python 3",
   "language": "python",
   "name": "python3"
  },
  "language_info": {
   "codemirror_mode": {
    "name": "ipython",
    "version": 3
   },
   "file_extension": ".py",
   "mimetype": "text/x-python",
   "name": "python",
   "nbconvert_exporter": "python",
   "pygments_lexer": "ipython3",
   "version": "3.6.9"
  }
 },
 "nbformat": 4,
 "nbformat_minor": 2
}
