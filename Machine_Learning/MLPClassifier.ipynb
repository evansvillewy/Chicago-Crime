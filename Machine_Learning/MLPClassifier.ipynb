{
 "cells": [
  {
   "cell_type": "code",
   "execution_count": 1,
   "metadata": {},
   "outputs": [],
   "source": [
    "# Import Dependencies\n",
    "import numpy as np\n",
    "import pandas as pd\n",
    "import os\n",
    "from sklearn.model_selection import train_test_split\n",
    "import pickle\n",
    "import joblib\n",
    "import csv"
   ]
  },
  {
   "cell_type": "markdown",
   "metadata": {},
   "source": [
    "## Import and Check Chicago Crime Datasets"
   ]
  },
  {
   "cell_type": "code",
   "execution_count": 2,
   "metadata": {},
   "outputs": [],
   "source": [
    "# Import 2016-2019 crime data\n",
    "crime_2016 = os.path.join(\"..\",\"Resources\", \"crime_clean_2016.csv\") \n",
    "crime_2017 = os.path.join(\"..\",\"Resources\", \"crime_clean_2017.csv\")\n",
    "crime_2018 = os.path.join(\"..\",\"Resources\", \"crime_clean_2018.csv\")\n",
    "crime_2019 = os.path.join(\"..\",\"Resources\", \"crime_clean_2019.csv\")\n",
    "\n",
    "crime_2016_df_final = pd.read_csv(crime_2016)\n",
    "crime_2017_df_final = pd.read_csv(crime_2017)\n",
    "crime_2018_df_final = pd.read_csv(crime_2018)\n",
    "\n",
    "# 2019 is the test data\n",
    "test_data = pd.read_csv(crime_2019)\n",
    "\n",
    "# Join datasets for 2016, 2017, and 2018 for the training data\n",
    "join1 = crime_2016_df_final.append(crime_2017_df_final)\n",
    "training_data = join1.append(crime_2018_df_final)\n",
    "X = training_data.append(test_data).copy()"
   ]
  },
  {
   "cell_type": "code",
   "execution_count": 3,
   "metadata": {},
   "outputs": [],
   "source": [
    "#function to Convert data to numbers\n",
    "from sklearn import preprocessing\n",
    "def convert(data):\n",
    "    number = preprocessing.LabelEncoder()\n",
    "    data['date'] = number.fit_transform(data.date)\n",
    "    data['time'] = number.fit_transform(data.time)\n",
    "    data['block'] = number.fit_transform(data.block)\n",
    "    data['description'] = number.fit_transform(data.description)\n",
    "    data['location_description'] = number.fit_transform(data.location_description)\n",
    "    data['iucr'] = number.fit_transform(data.iucr)\n",
    "    data['fbi_code'] = number.fit_transform(data.fbi_code)\n",
    "    data['primary_type'] = number.fit_transform(data.primary_type)\n",
    "    data['domestic'] = number.fit_transform(data.domestic)\n",
    "    data['latitude'] = number.fit_transform(data.latitude)\n",
    "    data['longitude'] = number.fit_transform(data.longitude)\n",
    "    data['arrest'] = number.fit_transform(data.arrest)\n",
    "    return data"
   ]
  },
  {
   "cell_type": "code",
   "execution_count": 4,
   "metadata": {},
   "outputs": [],
   "source": [
    "number = preprocessing.LabelEncoder()\n",
    "c = X['location_description'].unique()\n",
    "b = X['primary_type'].unique()\n",
    "encoded_loc = number.fit_transform(c).astype('int')\n",
    "encoded_type = number.fit_transform(b).astype('int')\n",
    "loc_dict = dict(zip(c,encoded_loc))\n",
    "type_dict = dict(zip(b,encoded_type))\n",
    "\n",
    "file = os.path.join(\"..\",\"Resources\", \"loc_dict.csv\") \n",
    "\n",
    "w = csv.writer(open(file, \"w\"))\n",
    "for key, val in loc_dict.items():\n",
    "    w.writerow([key, val])\n",
    "\n",
    "file = os.path.join(\"..\",\"Resources\", \"loc_dict.csv\") \n",
    "\n",
    "w = csv.writer(open(file, \"w\"))\n",
    "for key, val in type_dict.items():\n",
    "    w.writerow([key, val])    "
   ]
  },
  {
   "cell_type": "code",
   "execution_count": 5,
   "metadata": {},
   "outputs": [],
   "source": [
    "#function to drop unneeded columns/keeping only features needed for model\n",
    "def set_data(data):\n",
    "    data = (data[[\n",
    "              #'date'\n",
    "              #'day'\n",
    "              'month'\n",
    "              #,'year'\n",
    "              #,'time'\n",
    "              ,'hour'\n",
    "              #,'month_day'\n",
    "              ,'day_of_week'\n",
    "              #,'district'\n",
    "              #,'block'\n",
    "              #,'ward'\n",
    "              #,'beat'\n",
    "              #,'community_area'\n",
    "              #,'description'\n",
    "              ,'location_description'\n",
    "              #,'x_coordinate'\n",
    "              #,'y_coordinate'\n",
    "              #,'iucr'\n",
    "              #,'fbi_code'\n",
    "              ,'primary_type'\n",
    "              #,'domestic'\n",
    "              #,'latitude'\n",
    "              #,'longitude'\n",
    "            ]])\n",
    "    return data"
   ]
  },
  {
   "cell_type": "code",
   "execution_count": 6,
   "metadata": {},
   "outputs": [],
   "source": [
    "#LabelEncode the data\n",
    "X = convert(X)\n",
    "y = X[\"arrest\"]"
   ]
  },
  {
   "cell_type": "code",
   "execution_count": 7,
   "metadata": {},
   "outputs": [],
   "source": [
    "X = set_data(X)"
   ]
  },
  {
   "cell_type": "code",
   "execution_count": 8,
   "metadata": {},
   "outputs": [],
   "source": [
    "X_train, X_test, y_train, y_test = train_test_split(X, y, train_size=0.2,test_size=0.2, random_state=42)"
   ]
  },
  {
   "cell_type": "code",
   "execution_count": 9,
   "metadata": {},
   "outputs": [],
   "source": [
    "#Scale the data for SVM, requires normalization\n",
    "#reference: https://scikit-learn.org/stable/auto_examples/preprocessing/plot_scaling_importance.html\n",
    "from sklearn.preprocessing import StandardScaler\n",
    "y_train = np.array(y_train).reshape((len(y_train), 1),order='C')\n",
    "y_test = np.array(y_test).reshape((len(y_test), 1),order='C')\n",
    "\n",
    "X_scaler = StandardScaler().fit(X_train)\n",
    "\n",
    "X_train_scaled = X_scaler.transform(X_train)\n",
    "X_test_scaled = X_scaler.transform(X_test)"
   ]
  },
  {
   "cell_type": "code",
   "execution_count": 10,
   "metadata": {},
   "outputs": [],
   "source": [
    "#model is faster with C-contiguous data\n",
    "#reference: https://scikit-learn.org/stable/modules/svm.html\n",
    "X_train_scaled = np.asarray(X_train_scaled, order='C')\n",
    "X_test_scaled = np.asarray(X_test_scaled, order='C')"
   ]
  },
  {
   "cell_type": "code",
   "execution_count": 11,
   "metadata": {
    "scrolled": true
   },
   "outputs": [
    {
     "data": {
      "text/plain": [
       "(208961, 5)"
      ]
     },
     "execution_count": 11,
     "metadata": {},
     "output_type": "execute_result"
    }
   ],
   "source": [
    "X_train_scaled.shape"
   ]
  },
  {
   "cell_type": "code",
   "execution_count": 12,
   "metadata": {},
   "outputs": [
    {
     "data": {
      "text/plain": [
       "(208961,)"
      ]
     },
     "execution_count": 12,
     "metadata": {},
     "output_type": "execute_result"
    }
   ],
   "source": [
    "y_train.ravel().shape"
   ]
  },
  {
   "cell_type": "code",
   "execution_count": 13,
   "metadata": {},
   "outputs": [
    {
     "data": {
      "text/plain": [
       "array([[0],\n",
       "       [1],\n",
       "       [0],\n",
       "       ...,\n",
       "       [0],\n",
       "       [0],\n",
       "       [0]], dtype=int64)"
      ]
     },
     "execution_count": 13,
     "metadata": {},
     "output_type": "execute_result"
    }
   ],
   "source": [
    "y_train"
   ]
  },
  {
   "cell_type": "code",
   "execution_count": 14,
   "metadata": {},
   "outputs": [
    {
     "data": {
      "text/plain": [
       "(208962, 1)"
      ]
     },
     "execution_count": 14,
     "metadata": {},
     "output_type": "execute_result"
    }
   ],
   "source": [
    "y_test.shape"
   ]
  },
  {
   "cell_type": "code",
   "execution_count": 15,
   "metadata": {
    "scrolled": true
   },
   "outputs": [],
   "source": [
    "# Support vector machine linear classifier\n",
    "from sklearn.neural_network import MLPClassifier\n",
    "\n",
    "model = MLPClassifier( max_iter=175,activation='tanh',alpha=.00081,hidden_layer_sizes=(50,100,50), solver= 'adam'\n",
    "                      ,learning_rate='invscaling')\n",
    "\n",
    "model = model.fit(X_train_scaled, y_train.ravel())"
   ]
  },
  {
   "cell_type": "code",
   "execution_count": 16,
   "metadata": {},
   "outputs": [],
   "source": [
    "# save the model to disk\n",
    "filename = 'MLP_model.pkl'\n",
    "\n",
    "with open(filename, 'wb') as file:\n",
    "    pickle.dump(model, file)"
   ]
  },
  {
   "cell_type": "code",
   "execution_count": 17,
   "metadata": {},
   "outputs": [
    {
     "data": {
      "text/plain": [
       "['MLP_model.joblib']"
      ]
     },
     "execution_count": 17,
     "metadata": {},
     "output_type": "execute_result"
    }
   ],
   "source": [
    "# save the model to disk\n",
    "filename = 'MLP_model.joblib'\n",
    "\n",
    "joblib.dump(model, filename) "
   ]
  },
  {
   "cell_type": "code",
   "execution_count": 18,
   "metadata": {},
   "outputs": [
    {
     "name": "stdout",
     "output_type": "stream",
     "text": [
      "Test Acc: 0.874\n",
      "              precision    recall  f1-score   support\n",
      "\n",
      "           0       0.88      0.97      0.92    166376\n",
      "           1       0.82      0.49      0.61     42586\n",
      "\n",
      "    accuracy                           0.87    208962\n",
      "   macro avg       0.85      0.73      0.77    208962\n",
      "weighted avg       0.87      0.87      0.86    208962\n",
      "\n"
     ]
    }
   ],
   "source": [
    "#Predicting y for X_val\n",
    "y_pred = model.predict(X_test_scaled)\n",
    "\n",
    "#Importing Confusion Matrix\n",
    "from sklearn.metrics import classification_report\n",
    "\n",
    "#Printing the accuracy\n",
    "print('Test Acc: %.3f' % model.score(X_test_scaled, y_test))\n",
    "print(classification_report(y_test, y_pred))"
   ]
  },
  {
   "cell_type": "code",
   "execution_count": 19,
   "metadata": {},
   "outputs": [
    {
     "name": "stdout",
     "output_type": "stream",
     "text": [
      "[0.46513589922343507, 0.42468866539001515, 0.3964624596430731, 0.3879317389983296, 0.3829702302391022, 0.3777791910236219, 0.3700941981111322, 0.3605536332799121, 0.35275897016313307, 0.34770358822692693, 0.34525287648233555, 0.3432899105655123, 0.3422121483342083, 0.3411732204285955, 0.340154535293108, 0.3392786925626326, 0.3384888374710557, 0.33752965126080203, 0.3367058128312032, 0.33619158497927176, 0.3353641989510776, 0.33493286322282706, 0.33430401259776665, 0.334093260701671, 0.3333762239290159, 0.3330697484989433, 0.33214488923714286, 0.3318863757976779, 0.33155260361545447, 0.33083922733609666, 0.3304079428122504, 0.3306280489729557, 0.3300185388887986, 0.32961006628317097, 0.329338812713787, 0.3291715760883668, 0.32863151683990866, 0.32832384305888407, 0.32803245805702314, 0.3279599765462012, 0.32785075171060396, 0.32717339985331495, 0.327629369641837, 0.3268221846298343, 0.32700281076896487, 0.32665279627359717, 0.3271131957897297, 0.3263507529196447, 0.32641484562428896, 0.32602363193941447, 0.3260824568710734, 0.3257531774676278, 0.32565320002609116, 0.3252172256719696, 0.3250771175958703, 0.3252561539069882, 0.3249229364551957, 0.3247483518571087, 0.32495815718320226, 0.32468066001259194, 0.3243541364448002, 0.32452098111470445, 0.32422525198911895, 0.3242389079217685, 0.3239363387523745, 0.3237165267568834, 0.3240314752345673, 0.3237431137756847, 0.32354794063784065, 0.32353130494379956, 0.3235636386390455, 0.32340699843796455, 0.32336271256619786, 0.32326735922013067, 0.3234662436123841, 0.3230694231096801, 0.32274133105328895, 0.32302816435321163, 0.3229239735083326, 0.3230189393484968, 0.32305774047111646, 0.32269666023639765, 0.32257799779163965, 0.32270095731029586, 0.3224494515907969, 0.3224951949915619, 0.3225069640596512, 0.32233309149926925, 0.3221231922447914, 0.3222702934377747, 0.3222309686612079, 0.32222937691864784, 0.32206606378979147, 0.3219871451665193, 0.32210348348365153, 0.32208983451125595, 0.32199473269009377, 0.32184028439995355, 0.321770273173826, 0.3218999061592828, 0.3218436548412581, 0.32174646053479017, 0.3215811799676204, 0.32161643736850404, 0.3216557103166302, 0.321714825570437, 0.32137943987075124, 0.32150329703745234, 0.3212578393615228, 0.3213067257501681, 0.3215183110060675, 0.32128134514436724, 0.32124684739775355, 0.3214346019225768, 0.3209123936609774, 0.32106142544518207, 0.32127121477077153, 0.32098866323335695, 0.32101576829186534, 0.32113679558013575, 0.3210379259879789, 0.32082200724678367, 0.32108783197248136, 0.3209578119613424, 0.3209772830354219, 0.3210195360840813]\n"
     ]
    },
    {
     "data": {
      "image/png": "[encoded data removed]",
      "text/plain": [
       "<Figure size 432x288 with 1 Axes>"
      ]
     },
     "metadata": {
      "needs_background": "light"
     },
     "output_type": "display_data"
    }
   ],
   "source": [
    "import matplotlib.pyplot as plt\n",
    "loss_values = model.loss_curve_\n",
    "print (loss_values)\n",
    "plt.plot(loss_values)\n",
    "plt.show()"
   ]
  },
  {
   "cell_type": "code",
   "execution_count": 20,
   "metadata": {},
   "outputs": [],
   "source": [
    "number = preprocessing.LabelEncoder()\n",
    "c = X['location_description'].unique()\n",
    "b = X['primary_type'].unique()\n",
    "encoded_loc = number.fit_transform(c).astype('int')\n",
    "encoded_type = number.fit_transform(b).astype('int')\n",
    "loc_dict = dict(zip(c,encoded_loc))\n",
    "type_dict = dict(zip(b,encoded_type))\n",
    "\n",
    "file = os.path.join(\"..\",\"Resources\", \"loc_dict.csv\") \n",
    "\n",
    "with open(file, \"w\", newline='') as outfile:\n",
    "    w = csv.writer(outfile)\n",
    "    for key, val in loc_dict.items():\n",
    "        w.writerow([key, val])\n",
    "\n",
    "file = os.path.join(\"..\",\"Resources\", \"type_dict.csv\") \n",
    "\n",
    "with open(file, \"w\", newline='') as outfile:\n",
    "    w = csv.writer(outfile)\n",
    "    for key, val in type_dict.items():\n",
    "        w.writerow([key, val])   \n"
   ]
  },
  {
   "cell_type": "code",
   "execution_count": 21,
   "metadata": {},
   "outputs": [],
   "source": [
    "file = os.path.join(\"..\",\"Resources\", \"loc_dict.csv\")\n",
    "reader = csv.reader(open(file, 'r'))\n",
    "loc_dict = {}\n",
    "for row in reader:\n",
    "    #print(row)\n",
    "    k, v = row\n",
    "    loc_dict[k] = v"
   ]
  },
  {
   "cell_type": "code",
   "execution_count": 22,
   "metadata": {},
   "outputs": [],
   "source": [
    "file = os.path.join(\"..\",\"Resources\", \"type_dict.csv\")\n",
    "reader = csv.reader(open(file, 'r'))\n",
    "type_dict = {}\n",
    "for row in reader:\n",
    "    #print(row)\n",
    "    k, v = row\n",
    "    type_dict[k] = v"
   ]
  },
  {
   "cell_type": "code",
   "execution_count": 23,
   "metadata": {},
   "outputs": [
    {
     "ename": "TypeError",
     "evalue": "int() argument must be a string, a bytes-like object or a number, not 'NoneType'",
     "output_type": "error",
     "traceback": [
      "\u001b[1;31m---------------------------------------------------------------------------\u001b[0m",
      "\u001b[1;31mTypeError\u001b[0m                                 Traceback (most recent call last)",
      "\u001b[1;32m<ipython-input-23-0c13523fbfb3>\u001b[0m in \u001b[0;36m<module>\u001b[1;34m\u001b[0m\n\u001b[0;32m      2\u001b[0m \u001b[0mhour\u001b[0m \u001b[1;33m=\u001b[0m \u001b[1;36m15\u001b[0m\u001b[1;33m\u001b[0m\u001b[1;33m\u001b[0m\u001b[0m\n\u001b[0;32m      3\u001b[0m \u001b[0mday_of_week\u001b[0m \u001b[1;33m=\u001b[0m \u001b[1;36m4\u001b[0m\u001b[1;33m\u001b[0m\u001b[1;33m\u001b[0m\u001b[0m\n\u001b[1;32m----> 4\u001b[1;33m \u001b[0mlocation_description\u001b[0m \u001b[1;33m=\u001b[0m \u001b[0mint\u001b[0m\u001b[1;33m(\u001b[0m\u001b[0mloc_dict\u001b[0m\u001b[1;33m.\u001b[0m\u001b[0mget\u001b[0m\u001b[1;33m(\u001b[0m\u001b[1;34m'AIRPORT BUILDING NON-TERMINAL - SECURE AREA'\u001b[0m\u001b[1;33m)\u001b[0m\u001b[1;33m)\u001b[0m\u001b[1;33m\u001b[0m\u001b[1;33m\u001b[0m\u001b[0m\n\u001b[0m\u001b[0;32m      5\u001b[0m \u001b[0mprimary_type\u001b[0m \u001b[1;33m=\u001b[0m\u001b[0mint\u001b[0m\u001b[1;33m(\u001b[0m\u001b[0mtype_dict\u001b[0m\u001b[1;33m.\u001b[0m\u001b[0mget\u001b[0m\u001b[1;33m(\u001b[0m\u001b[1;34m'BURGLARY'\u001b[0m\u001b[1;33m)\u001b[0m\u001b[1;33m)\u001b[0m\u001b[1;33m\u001b[0m\u001b[1;33m\u001b[0m\u001b[0m\n\u001b[0;32m      6\u001b[0m \u001b[1;33m\u001b[0m\u001b[0m\n",
      "\u001b[1;31mTypeError\u001b[0m: int() argument must be a string, a bytes-like object or a number, not 'NoneType'"
     ]
    }
   ],
   "source": [
    "month = 6\n",
    "hour = 15\n",
    "day_of_week = 4\n",
    "location_description = int(loc_dict.get('AIRPORT BUILDING NON-TERMINAL - SECURE AREA'))\n",
    "primary_type =int(type_dict.get('BURGLARY'))\n",
    "\n",
    "filename='MLP_model.pkl'\n",
    "# Load from file\n",
    "with open(filename, 'rb') as file:\n",
    "    pickle_model = pickle.load(file)\n",
    "    \n",
    "print(model.predict([[month, hour, day_of_week,location_description,primary_type]]))"
   ]
  },
  {
   "cell_type": "code",
   "execution_count": null,
   "metadata": {},
   "outputs": [],
   "source": [
    "month = 6\n",
    "hour = 15\n",
    "day_of_week = 4\n",
    "location_description = int(loc_dict.get('AIRPORT BUILDING NON-TERMINAL - SECURE AREA'))\n",
    "primary_type =int(type_dict.get('BURGLARY'))\n",
    "\n",
    "filename='RF_model.sav'\n",
    "# Load from file\n",
    "model = joblib.load(filename)\n",
    "    \n",
    "print(model.predict([[month, hour, day_of_week,location_description,primary_type]]))\n"
   ]
  },
  {
   "cell_type": "code",
   "execution_count": null,
   "metadata": {},
   "outputs": [],
   "source": []
  }
 ],
 "metadata": {
  "kernelspec": {
   "display_name": "Python 3",
   "language": "python",
   "name": "python3"
  },
  "language_info": {
   "codemirror_mode": {
    "name": "ipython",
    "version": 3
   },
   "file_extension": ".py",
   "mimetype": "text/x-python",
   "name": "python",
   "nbconvert_exporter": "python",
   "pygments_lexer": "ipython3",
   "version": "3.6.9"
  }
 },
 "nbformat": 4,
 "nbformat_minor": 2
}
