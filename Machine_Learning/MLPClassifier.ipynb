{
 "cells": [
  {
   "cell_type": "code",
   "execution_count": 188,
   "metadata": {},
   "outputs": [],
   "source": [
    "# Import Dependencies\n",
    "import numpy as np\n",
    "import pandas as pd\n",
    "import os\n",
    "from sklearn.model_selection import train_test_split\n",
    "import pickle\n",
    "import joblib\n",
    "import csv"
   ]
  },
  {
   "cell_type": "markdown",
   "metadata": {},
   "source": [
    "## Import and Check Chicago Crime Datasets"
   ]
  },
  {
   "cell_type": "code",
   "execution_count": 189,
   "metadata": {},
   "outputs": [],
   "source": [
    "# Import 2016-2019 crime data\n",
    "crime_2016 = os.path.join(\"..\",\"Resources\", \"crime_clean_2016.csv\") \n",
    "crime_2017 = os.path.join(\"..\",\"Resources\", \"crime_clean_2017.csv\")\n",
    "crime_2018 = os.path.join(\"..\",\"Resources\", \"crime_clean_2018.csv\")\n",
    "crime_2019 = os.path.join(\"..\",\"Resources\", \"crime_clean_2019.csv\")\n",
    "\n",
    "crime_2016_df_final = pd.read_csv(crime_2016)\n",
    "crime_2017_df_final = pd.read_csv(crime_2017)\n",
    "crime_2018_df_final = pd.read_csv(crime_2018)\n",
    "\n",
    "# 2019 is the test data\n",
    "test_data = pd.read_csv(crime_2019)\n",
    "\n",
    "# Join datasets for 2016, 2017, and 2018 for the training data\n",
    "join1 = crime_2016_df_final.append(crime_2017_df_final)\n",
    "training_data = join1.append(crime_2018_df_final)\n",
    "X = training_data.append(test_data).copy()"
   ]
  },
  {
   "cell_type": "code",
   "execution_count": 190,
   "metadata": {},
   "outputs": [],
   "source": [
    "#function to Convert data to numbers\n",
    "from sklearn import preprocessing\n",
    "def convert(data):\n",
    "    number = preprocessing.LabelEncoder()\n",
    "    data['date'] = number.fit_transform(data.date)\n",
    "    data['time'] = number.fit_transform(data.time)\n",
    "    data['block'] = number.fit_transform(data.block)\n",
    "    data['description'] = number.fit_transform(data.description)\n",
    "    data['location_description'] = number.fit_transform(data.location_description)\n",
    "    data['iucr'] = number.fit_transform(data.iucr)\n",
    "    data['fbi_code'] = number.fit_transform(data.fbi_code)\n",
    "    data['primary_type'] = number.fit_transform(data.primary_type)\n",
    "    data['domestic'] = number.fit_transform(data.domestic)\n",
    "    data['latitude'] = number.fit_transform(data.latitude)\n",
    "    data['longitude'] = number.fit_transform(data.longitude)\n",
    "    data['arrest'] = number.fit_transform(data.arrest)\n",
    "    return data"
   ]
  },
  {
   "cell_type": "code",
   "execution_count": 191,
   "metadata": {},
   "outputs": [],
   "source": [
    "number = preprocessing.LabelEncoder()\n",
    "c = X['location_description'].unique()\n",
    "b = X['primary_type'].unique()\n",
    "encoded_loc = number.fit_transform(c).astype('int')\n",
    "encoded_type = number.fit_transform(b).astype('int')\n",
    "loc_dict = dict(zip(c,encoded_loc))\n",
    "type_dict = dict(zip(b,encoded_type))\n",
    "\n",
    "file = os.path.join(\"..\",\"Resources\", \"loc_dict.csv\") \n",
    "\n",
    "w = csv.writer(open(file, \"w\"))\n",
    "for key, val in loc_dict.items():\n",
    "    w.writerow([key, val])\n",
    "\n",
    "file = os.path.join(\"..\",\"Resources\", \"loc_dict.csv\") \n",
    "\n",
    "w = csv.writer(open(file, \"w\"))\n",
    "for key, val in type_dict.items():\n",
    "    w.writerow([key, val])    "
   ]
  },
  {
   "cell_type": "code",
   "execution_count": 192,
   "metadata": {},
   "outputs": [],
   "source": [
    "#function to drop unneeded columns/keeping only features needed for model\n",
    "def set_data(data):\n",
    "    data = (data[[\n",
    "              #'date'\n",
    "              #'day'\n",
    "              'month'\n",
    "              #,'year'\n",
    "              #,'time'\n",
    "              ,'hour'\n",
    "              #,'month_day'\n",
    "              ,'day_of_week'\n",
    "              #,'district'\n",
    "              #,'block'\n",
    "              #,'ward'\n",
    "              #,'beat'\n",
    "              #,'community_area'\n",
    "              #,'description'\n",
    "              ,'location_description'\n",
    "              #,'x_coordinate'\n",
    "              #,'y_coordinate'\n",
    "              #,'iucr'\n",
    "              #,'fbi_code'\n",
    "              ,'primary_type'\n",
    "              #,'domestic'\n",
    "              #,'latitude'\n",
    "              #,'longitude'\n",
    "            ]])\n",
    "    return data"
   ]
  },
  {
   "cell_type": "code",
   "execution_count": 193,
   "metadata": {},
   "outputs": [],
   "source": [
    "#LabelEncode the data\n",
    "X = convert(X)\n",
    "y = X[\"arrest\"]"
   ]
  },
  {
   "cell_type": "code",
   "execution_count": 194,
   "metadata": {},
   "outputs": [],
   "source": [
    "X = set_data(X)"
   ]
  },
  {
   "cell_type": "code",
   "execution_count": 195,
   "metadata": {},
   "outputs": [],
   "source": [
    "X_train, X_test, y_train, y_test = train_test_split(X, y, train_size=0.2,test_size=0.2, random_state=42)"
   ]
  },
  {
   "cell_type": "code",
   "execution_count": 196,
   "metadata": {},
   "outputs": [],
   "source": [
    "#Scale the data for SVM, requires normalization\n",
    "#reference: https://scikit-learn.org/stable/auto_examples/preprocessing/plot_scaling_importance.html\n",
    "from sklearn.preprocessing import StandardScaler\n",
    "y_train = np.array(y_train).reshape((len(y_train), 1),order='C')\n",
    "y_test = np.array(y_test).reshape((len(y_test), 1),order='C')\n",
    "\n",
    "X_scaler = StandardScaler().fit(X_train)\n",
    "\n",
    "X_train_scaled = X_scaler.transform(X_train)\n",
    "X_test_scaled = X_scaler.transform(X_test)"
   ]
  },
  {
   "cell_type": "code",
   "execution_count": 197,
   "metadata": {},
   "outputs": [],
   "source": [
    "#model is faster with C-contiguous data\n",
    "#reference: https://scikit-learn.org/stable/modules/svm.html\n",
    "X_train_scaled = np.asarray(X_train_scaled, order='C')\n",
    "X_test_scaled = np.asarray(X_test_scaled, order='C')"
   ]
  },
  {
   "cell_type": "code",
   "execution_count": 198,
   "metadata": {
    "scrolled": true
   },
   "outputs": [
    {
     "data": {
      "text/plain": [
       "(208961, 5)"
      ]
     },
     "execution_count": 198,
     "metadata": {},
     "output_type": "execute_result"
    }
   ],
   "source": [
    "X_train_scaled.shape"
   ]
  },
  {
   "cell_type": "code",
   "execution_count": 199,
   "metadata": {},
   "outputs": [
    {
     "data": {
      "text/plain": [
       "(208961,)"
      ]
     },
     "execution_count": 199,
     "metadata": {},
     "output_type": "execute_result"
    }
   ],
   "source": [
    "y_train.ravel().shape"
   ]
  },
  {
   "cell_type": "code",
   "execution_count": 200,
   "metadata": {},
   "outputs": [
    {
     "data": {
      "text/plain": [
       "array([[0],\n",
       "       [1],\n",
       "       [0],\n",
       "       ...,\n",
       "       [0],\n",
       "       [0],\n",
       "       [0]], dtype=int64)"
      ]
     },
     "execution_count": 200,
     "metadata": {},
     "output_type": "execute_result"
    }
   ],
   "source": [
    "y_train"
   ]
  },
  {
   "cell_type": "code",
   "execution_count": 201,
   "metadata": {},
   "outputs": [
    {
     "data": {
      "text/plain": [
       "(208962, 1)"
      ]
     },
     "execution_count": 201,
     "metadata": {},
     "output_type": "execute_result"
    }
   ],
   "source": [
    "y_test.shape"
   ]
  },
  {
   "cell_type": "code",
   "execution_count": 214,
   "metadata": {
    "scrolled": true
   },
   "outputs": [],
   "source": [
    "# Support vector machine linear classifier\n",
    "from sklearn.neural_network import MLPClassifier\n",
    "\n",
    "model = MLPClassifier( max_iter=175,activation='tanh',alpha=.00081,hidden_layer_sizes=(50,100,50), solver= 'adam'\n",
    "                      ,learning_rate='invscaling')\n",
    "\n",
    "model = model.fit(X_train_scaled, y_train.ravel())"
   ]
  },
  {
   "cell_type": "code",
   "execution_count": 215,
   "metadata": {},
   "outputs": [],
   "source": [
    "# save the model to disk\n",
    "filename = 'MLP_model.pkl'\n",
    "\n",
    "with open(filename, 'wb') as file:\n",
    "    pickle.dump(model, file)"
   ]
  },
  {
   "cell_type": "code",
   "execution_count": 216,
   "metadata": {},
   "outputs": [
    {
     "data": {
      "text/plain": [
       "['MLP_model.joblib']"
      ]
     },
     "execution_count": 216,
     "metadata": {},
     "output_type": "execute_result"
    }
   ],
   "source": [
    "# save the model to disk\n",
    "filename = 'MLP_model.joblib'\n",
    "\n",
    "joblib.dump(model, filename) "
   ]
  },
  {
   "cell_type": "code",
   "execution_count": 217,
   "metadata": {},
   "outputs": [
    {
     "name": "stdout",
     "output_type": "stream",
     "text": [
      "Test Acc: 0.874\n",
      "              precision    recall  f1-score   support\n",
      "\n",
      "           0       0.89      0.97      0.92    166376\n",
      "           1       0.80      0.51      0.62     42586\n",
      "\n",
      "    accuracy                           0.87    208962\n",
      "   macro avg       0.84      0.74      0.77    208962\n",
      "weighted avg       0.87      0.87      0.86    208962\n",
      "\n"
     ]
    }
   ],
   "source": [
    "#Predicting y for X_val\n",
    "y_pred = model.predict(X_test_scaled)\n",
    "\n",
    "#Importing Confusion Matrix\n",
    "from sklearn.metrics import classification_report\n",
    "\n",
    "#Printing the accuracy\n",
    "print('Test Acc: %.3f' % model.score(X_test_scaled, y_test))\n",
    "print(classification_report(y_test, y_pred))"
   ]
  },
  {
   "cell_type": "code",
   "execution_count": 218,
   "metadata": {},
   "outputs": [
    {
     "name": "stdout",
     "output_type": "stream",
     "text": [
      "[0.46874505626212803, 0.41094125104069357, 0.3956257387586829, 0.38968874653141417, 0.38464521530524864, 0.37805301107494654, 0.3705163471627779, 0.36507097154896656, 0.3610937179549657, 0.35719232137316537, 0.3531940880733956, 0.34756959750236416, 0.34317797983211595, 0.3403190733573176, 0.3386277915918194, 0.33716958028521304, 0.33601198055038173, 0.3350662521445592, 0.3340184813905241, 0.33327069243703594, 0.3329348418164533, 0.33187267314095165, 0.3313240924843204, 0.33067222092168935, 0.33051990683524185, 0.3297467427847822, 0.3295271973778904, 0.3289973757698694, 0.32888326987786803, 0.3283094669992892, 0.32815817891570404, 0.3276773907763921, 0.32743996259106345, 0.3274607359911438, 0.3271304491856811, 0.32684677370498355, 0.3268394210951081, 0.3273765057439126, 0.3263669438055502, 0.3266346569923556, 0.32623402560705145, 0.32614641838425534, 0.3261209348187798, 0.3262288020442116, 0.3255303161741579, 0.3259311004328437, 0.3257387706956972, 0.32620598945837703, 0.3257746368837715, 0.3252810811597468, 0.32539617105472524, 0.3252790795196399, 0.3253841199084428, 0.32559418190797573, 0.32507611294932914, 0.3250134827243446, 0.32566351005017846, 0.32495253596454415, 0.32490258792920157, 0.3248410460719501, 0.3247640957009398, 0.32495070145506366, 0.3247546745956394, 0.3247605224209586, 0.3246589611454567, 0.3246910549162203]\n"
     ]
    },
    {
     "data": {
      "image/png": "[encoded data removed]",
      "text/plain": [
       "<Figure size 432x288 with 1 Axes>"
      ]
     },
     "metadata": {
      "needs_background": "light"
     },
     "output_type": "display_data"
    }
   ],
   "source": [
    "import matplotlib.pyplot as plt\n",
    "loss_values = model.loss_curve_\n",
    "print (loss_values)\n",
    "plt.plot(loss_values)\n",
    "plt.show()"
   ]
  },
  {
   "cell_type": "code",
   "execution_count": 169,
   "metadata": {},
   "outputs": [],
   "source": [
    "number = preprocessing.LabelEncoder()\n",
    "c = X['location_description'].unique()\n",
    "b = X['primary_type'].unique()\n",
    "encoded_loc = number.fit_transform(c).astype('int')\n",
    "encoded_type = number.fit_transform(b).astype('int')\n",
    "loc_dict = dict(zip(c,encoded_loc))\n",
    "type_dict = dict(zip(b,encoded_type))\n",
    "\n",
    "file = os.path.join(\"..\",\"Resources\", \"loc_dict.csv\") \n",
    "\n",
    "with open(file, \"w\", newline='') as outfile:\n",
    "    w = csv.writer(outfile)\n",
    "    for key, val in loc_dict.items():\n",
    "        w.writerow([key, val])\n",
    "\n",
    "file = os.path.join(\"..\",\"Resources\", \"type_dict.csv\") \n",
    "\n",
    "with open(file, \"w\", newline='') as outfile:\n",
    "    w = csv.writer(outfile)\n",
    "    for key, val in type_dict.items():\n",
    "        w.writerow([key, val])   \n"
   ]
  },
  {
   "cell_type": "code",
   "execution_count": 170,
   "metadata": {},
   "outputs": [],
   "source": [
    "file = os.path.join(\"..\",\"Resources\", \"loc_dict.csv\")\n",
    "reader = csv.reader(open(file, 'r'))\n",
    "loc_dict = {}\n",
    "for row in reader:\n",
    "    #print(row)\n",
    "    k, v = row\n",
    "    loc_dict[k] = v"
   ]
  },
  {
   "cell_type": "code",
   "execution_count": 171,
   "metadata": {},
   "outputs": [],
   "source": [
    "file = os.path.join(\"..\",\"Resources\", \"type_dict.csv\")\n",
    "reader = csv.reader(open(file, 'r'))\n",
    "type_dict = {}\n",
    "for row in reader:\n",
    "    #print(row)\n",
    "    k, v = row\n",
    "    type_dict[k] = v"
   ]
  },
  {
   "cell_type": "code",
   "execution_count": 225,
   "metadata": {},
   "outputs": [
    {
     "name": "stdout",
     "output_type": "stream",
     "text": [
      "[0]\n"
     ]
    }
   ],
   "source": [
    "month = 6\n",
    "hour = 15\n",
    "day_of_week = 4\n",
    "location_description = int(loc_dict.get('AIRPORT BUILDING NON-TERMINAL - SECURE AREA'))\n",
    "primary_type =int(type_dict.get('BURGLARY'))\n",
    "\n",
    "filename='MLP_model.pkl'\n",
    "# Load from file\n",
    "with open(filename, 'rb') as file:\n",
    "    pickle_model = pickle.load(file)\n",
    "    \n",
    "print(model.predict([[month, hour, day_of_week,location_description,primary_type]]))"
   ]
  },
  {
   "cell_type": "code",
   "execution_count": 224,
   "metadata": {},
   "outputs": [
    {
     "name": "stdout",
     "output_type": "stream",
     "text": [
      "[0]\n"
     ]
    }
   ],
   "source": [
    "month = 6\n",
    "hour = 15\n",
    "day_of_week = 4\n",
    "location_description = int(loc_dict.get('AIRPORT BUILDING NON-TERMINAL - SECURE AREA'))\n",
    "primary_type =int(type_dict.get('BURGLARY'))\n",
    "\n",
    "filename='RF_model.sav'\n",
    "# Load from file\n",
    "model = joblib.load(filename)\n",
    "    \n",
    "print(model.predict([[month, hour, day_of_week,location_description,primary_type]]))\n"
   ]
  }
 ],
 "metadata": {
  "kernelspec": {
   "display_name": "Python 3",
   "language": "python",
   "name": "python3"
  },
  "language_info": {
   "codemirror_mode": {
    "name": "ipython",
    "version": 3
   },
   "file_extension": ".py",
   "mimetype": "text/x-python",
   "name": "python",
   "nbconvert_exporter": "python",
   "pygments_lexer": "ipython3",
   "version": "3.6.9"
  }
 },
 "nbformat": 4,
 "nbformat_minor": 2
}
