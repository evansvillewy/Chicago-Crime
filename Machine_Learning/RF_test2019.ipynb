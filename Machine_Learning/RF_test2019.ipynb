{
 "cells": [
  {
   "cell_type": "code",
   "execution_count": 1,
   "metadata": {
    "ExecuteTime": {
     "end_time": "2020-05-03T23:56:48.067860Z",
     "start_time": "2020-05-03T23:56:47.580166Z"
    }
   },
   "outputs": [],
   "source": [
    "# Import Dependencies\n",
    "import numpy as np\n",
    "import pandas as pd\n",
    "import os"
   ]
  },
  {
   "cell_type": "markdown",
   "metadata": {},
   "source": [
    "## Import and Check Chicago Crime Datasets"
   ]
  },
  {
   "cell_type": "code",
   "execution_count": 2,
   "metadata": {
    "ExecuteTime": {
     "end_time": "2020-05-03T23:56:54.114686Z",
     "start_time": "2020-05-03T23:56:50.909260Z"
    }
   },
   "outputs": [
    {
     "data": {
      "text/html": [
       "<div>\n",
       "<style scoped>\n",
       "    .dataframe tbody tr th:only-of-type {\n",
       "        vertical-align: middle;\n",
       "    }\n",
       "\n",
       "    .dataframe tbody tr th {\n",
       "        vertical-align: top;\n",
       "    }\n",
       "\n",
       "    .dataframe thead th {\n",
       "        text-align: right;\n",
       "    }\n",
       "</style>\n",
       "<table border=\"1\" class=\"dataframe\">\n",
       "  <thead>\n",
       "    <tr style=\"text-align: right;\">\n",
       "      <th></th>\n",
       "      <th>id</th>\n",
       "      <th>date</th>\n",
       "      <th>day</th>\n",
       "      <th>month</th>\n",
       "      <th>year</th>\n",
       "      <th>time</th>\n",
       "      <th>hour</th>\n",
       "      <th>month_day</th>\n",
       "      <th>day_of_week</th>\n",
       "      <th>district</th>\n",
       "      <th>...</th>\n",
       "      <th>location_description</th>\n",
       "      <th>x_coordinate</th>\n",
       "      <th>y_coordinate</th>\n",
       "      <th>iucr</th>\n",
       "      <th>fbi_code</th>\n",
       "      <th>primary_type</th>\n",
       "      <th>domestic</th>\n",
       "      <th>latitude</th>\n",
       "      <th>longitude</th>\n",
       "      <th>arrest</th>\n",
       "    </tr>\n",
       "  </thead>\n",
       "  <tbody>\n",
       "    <tr>\n",
       "      <th>0</th>\n",
       "      <td>10819224</td>\n",
       "      <td>2016-12-31T23:59:00.000</td>\n",
       "      <td>31</td>\n",
       "      <td>12</td>\n",
       "      <td>2016</td>\n",
       "      <td>23:59:00.000</td>\n",
       "      <td>23</td>\n",
       "      <td>1231</td>\n",
       "      <td>5</td>\n",
       "      <td>16</td>\n",
       "      <td>...</td>\n",
       "      <td>AIRPORT BUILDING NON-TERMINAL - SECURE AREA</td>\n",
       "      <td>1100658</td>\n",
       "      <td>1934241</td>\n",
       "      <td>0810</td>\n",
       "      <td>06</td>\n",
       "      <td>THEFT</td>\n",
       "      <td>False</td>\n",
       "      <td>41.976290</td>\n",
       "      <td>-87.905227</td>\n",
       "      <td>False</td>\n",
       "    </tr>\n",
       "    <tr>\n",
       "      <th>1</th>\n",
       "      <td>10801137</td>\n",
       "      <td>2016-12-31T23:58:00.000</td>\n",
       "      <td>31</td>\n",
       "      <td>12</td>\n",
       "      <td>2016</td>\n",
       "      <td>23:58:00.000</td>\n",
       "      <td>23</td>\n",
       "      <td>1231</td>\n",
       "      <td>5</td>\n",
       "      <td>5</td>\n",
       "      <td>...</td>\n",
       "      <td>RESIDENCE</td>\n",
       "      <td>1178014</td>\n",
       "      <td>1829709</td>\n",
       "      <td>0430</td>\n",
       "      <td>04B</td>\n",
       "      <td>BATTERY</td>\n",
       "      <td>False</td>\n",
       "      <td>41.688033</td>\n",
       "      <td>-87.623931</td>\n",
       "      <td>False</td>\n",
       "    </tr>\n",
       "    <tr>\n",
       "      <th>2</th>\n",
       "      <td>10801110</td>\n",
       "      <td>2016-12-31T23:55:00.000</td>\n",
       "      <td>31</td>\n",
       "      <td>12</td>\n",
       "      <td>2016</td>\n",
       "      <td>23:55:00.000</td>\n",
       "      <td>23</td>\n",
       "      <td>1231</td>\n",
       "      <td>5</td>\n",
       "      <td>19</td>\n",
       "      <td>...</td>\n",
       "      <td>RESIDENCE</td>\n",
       "      <td>1166154</td>\n",
       "      <td>1920300</td>\n",
       "      <td>2250</td>\n",
       "      <td>22</td>\n",
       "      <td>LIQUOR LAW VIOLATION</td>\n",
       "      <td>False</td>\n",
       "      <td>41.936885</td>\n",
       "      <td>-87.664770</td>\n",
       "      <td>True</td>\n",
       "    </tr>\n",
       "    <tr>\n",
       "      <th>3</th>\n",
       "      <td>10802006</td>\n",
       "      <td>2016-12-31T23:55:00.000</td>\n",
       "      <td>31</td>\n",
       "      <td>12</td>\n",
       "      <td>2016</td>\n",
       "      <td>23:55:00.000</td>\n",
       "      <td>23</td>\n",
       "      <td>1231</td>\n",
       "      <td>5</td>\n",
       "      <td>1</td>\n",
       "      <td>...</td>\n",
       "      <td>HOTEL/MOTEL</td>\n",
       "      <td>1176964</td>\n",
       "      <td>1902140</td>\n",
       "      <td>0486</td>\n",
       "      <td>08B</td>\n",
       "      <td>BATTERY</td>\n",
       "      <td>True</td>\n",
       "      <td>41.886815</td>\n",
       "      <td>-87.625593</td>\n",
       "      <td>False</td>\n",
       "    </tr>\n",
       "    <tr>\n",
       "      <th>4</th>\n",
       "      <td>10801865</td>\n",
       "      <td>2016-12-31T23:54:00.000</td>\n",
       "      <td>31</td>\n",
       "      <td>12</td>\n",
       "      <td>2016</td>\n",
       "      <td>23:54:00.000</td>\n",
       "      <td>23</td>\n",
       "      <td>1231</td>\n",
       "      <td>5</td>\n",
       "      <td>6</td>\n",
       "      <td>...</td>\n",
       "      <td>RESIDENCE</td>\n",
       "      <td>1178949</td>\n",
       "      <td>1853139</td>\n",
       "      <td>1310</td>\n",
       "      <td>14</td>\n",
       "      <td>CRIMINAL DAMAGE</td>\n",
       "      <td>True</td>\n",
       "      <td>41.752307</td>\n",
       "      <td>-87.619798</td>\n",
       "      <td>False</td>\n",
       "    </tr>\n",
       "  </tbody>\n",
       "</table>\n",
       "<p>5 rows × 25 columns</p>\n",
       "</div>"
      ],
      "text/plain": [
       "         id                     date  day  month  year          time  hour  \\\n",
       "0  10819224  2016-12-31T23:59:00.000   31     12  2016  23:59:00.000    23   \n",
       "1  10801137  2016-12-31T23:58:00.000   31     12  2016  23:58:00.000    23   \n",
       "2  10801110  2016-12-31T23:55:00.000   31     12  2016  23:55:00.000    23   \n",
       "3  10802006  2016-12-31T23:55:00.000   31     12  2016  23:55:00.000    23   \n",
       "4  10801865  2016-12-31T23:54:00.000   31     12  2016  23:54:00.000    23   \n",
       "\n",
       "   month_day  day_of_week  district  ...  \\\n",
       "0       1231            5        16  ...   \n",
       "1       1231            5         5  ...   \n",
       "2       1231            5        19  ...   \n",
       "3       1231            5         1  ...   \n",
       "4       1231            5         6  ...   \n",
       "\n",
       "                          location_description  x_coordinate  y_coordinate  \\\n",
       "0  AIRPORT BUILDING NON-TERMINAL - SECURE AREA       1100658       1934241   \n",
       "1                                    RESIDENCE       1178014       1829709   \n",
       "2                                    RESIDENCE       1166154       1920300   \n",
       "3                                  HOTEL/MOTEL       1176964       1902140   \n",
       "4                                    RESIDENCE       1178949       1853139   \n",
       "\n",
       "   iucr fbi_code          primary_type  domestic   latitude  longitude arrest  \n",
       "0  0810       06                 THEFT     False  41.976290 -87.905227  False  \n",
       "1  0430      04B               BATTERY     False  41.688033 -87.623931  False  \n",
       "2  2250       22  LIQUOR LAW VIOLATION     False  41.936885 -87.664770   True  \n",
       "3  0486      08B               BATTERY      True  41.886815 -87.625593  False  \n",
       "4  1310       14       CRIMINAL DAMAGE      True  41.752307 -87.619798  False  \n",
       "\n",
       "[5 rows x 25 columns]"
      ]
     },
     "execution_count": 2,
     "metadata": {},
     "output_type": "execute_result"
    }
   ],
   "source": [
    "# Import 2016 - 2019 crime data\n",
    "crime_2016 = os.path.join(\"Resources\", \"crime_clean_2016.csv\") \n",
    "crime_2017 = os.path.join(\"Resources\", \"crime_clean_2017.csv\") \n",
    "crime_2018 = os.path.join(\"Resources\", \"crime_clean_2018.csv\")\n",
    "\n",
    "crime_2016_df_final = pd.read_csv(crime_2016)\n",
    "crime_2017_df_final = pd.read_csv(crime_2017)\n",
    "crime_2018_df_final = pd.read_csv(crime_2018)\n",
    "\n",
    "join1 = crime_2016_df_final.append(crime_2017_df_final)\n",
    "training_df = join1.append(crime_2018_df_final)\n",
    "training_df.head()"
   ]
  },
  {
   "cell_type": "code",
   "execution_count": 3,
   "metadata": {
    "ExecuteTime": {
     "end_time": "2020-05-03T23:56:58.843114Z",
     "start_time": "2020-05-03T23:56:57.974407Z"
    },
    "scrolled": true
   },
   "outputs": [
    {
     "data": {
      "text/html": [
       "<div>\n",
       "<style scoped>\n",
       "    .dataframe tbody tr th:only-of-type {\n",
       "        vertical-align: middle;\n",
       "    }\n",
       "\n",
       "    .dataframe tbody tr th {\n",
       "        vertical-align: top;\n",
       "    }\n",
       "\n",
       "    .dataframe thead th {\n",
       "        text-align: right;\n",
       "    }\n",
       "</style>\n",
       "<table border=\"1\" class=\"dataframe\">\n",
       "  <thead>\n",
       "    <tr style=\"text-align: right;\">\n",
       "      <th></th>\n",
       "      <th>id</th>\n",
       "      <th>date</th>\n",
       "      <th>day</th>\n",
       "      <th>month</th>\n",
       "      <th>year</th>\n",
       "      <th>time</th>\n",
       "      <th>hour</th>\n",
       "      <th>month_day</th>\n",
       "      <th>day_of_week</th>\n",
       "      <th>district</th>\n",
       "      <th>...</th>\n",
       "      <th>location_description</th>\n",
       "      <th>x_coordinate</th>\n",
       "      <th>y_coordinate</th>\n",
       "      <th>iucr</th>\n",
       "      <th>fbi_code</th>\n",
       "      <th>primary_type</th>\n",
       "      <th>domestic</th>\n",
       "      <th>latitude</th>\n",
       "      <th>longitude</th>\n",
       "      <th>arrest</th>\n",
       "    </tr>\n",
       "  </thead>\n",
       "  <tbody>\n",
       "    <tr>\n",
       "      <th>0</th>\n",
       "      <td>11938228</td>\n",
       "      <td>2019-12-31T23:55:00.000</td>\n",
       "      <td>31</td>\n",
       "      <td>12</td>\n",
       "      <td>2019</td>\n",
       "      <td>23:55:00.000</td>\n",
       "      <td>23</td>\n",
       "      <td>1231</td>\n",
       "      <td>1</td>\n",
       "      <td>7</td>\n",
       "      <td>...</td>\n",
       "      <td>STREET</td>\n",
       "      <td>1176896</td>\n",
       "      <td>1859260</td>\n",
       "      <td>143A</td>\n",
       "      <td>15</td>\n",
       "      <td>WEAPONS VIOLATION</td>\n",
       "      <td>False</td>\n",
       "      <td>41.769150</td>\n",
       "      <td>-87.627137</td>\n",
       "      <td>True</td>\n",
       "    </tr>\n",
       "    <tr>\n",
       "      <th>1</th>\n",
       "      <td>11940078</td>\n",
       "      <td>2019-12-31T23:54:00.000</td>\n",
       "      <td>31</td>\n",
       "      <td>12</td>\n",
       "      <td>2019</td>\n",
       "      <td>23:54:00.000</td>\n",
       "      <td>23</td>\n",
       "      <td>1231</td>\n",
       "      <td>1</td>\n",
       "      <td>7</td>\n",
       "      <td>...</td>\n",
       "      <td>SIDEWALK</td>\n",
       "      <td>1169736</td>\n",
       "      <td>1862855</td>\n",
       "      <td>0420</td>\n",
       "      <td>04B</td>\n",
       "      <td>BATTERY</td>\n",
       "      <td>False</td>\n",
       "      <td>41.779174</td>\n",
       "      <td>-87.653278</td>\n",
       "      <td>False</td>\n",
       "    </tr>\n",
       "    <tr>\n",
       "      <th>2</th>\n",
       "      <td>11938240</td>\n",
       "      <td>2019-12-31T23:48:00.000</td>\n",
       "      <td>31</td>\n",
       "      <td>12</td>\n",
       "      <td>2019</td>\n",
       "      <td>23:48:00.000</td>\n",
       "      <td>23</td>\n",
       "      <td>1231</td>\n",
       "      <td>1</td>\n",
       "      <td>15</td>\n",
       "      <td>...</td>\n",
       "      <td>VEHICLE NON-COMMERCIAL</td>\n",
       "      <td>1144466</td>\n",
       "      <td>1897452</td>\n",
       "      <td>143A</td>\n",
       "      <td>15</td>\n",
       "      <td>WEAPONS VIOLATION</td>\n",
       "      <td>False</td>\n",
       "      <td>41.874624</td>\n",
       "      <td>-87.745053</td>\n",
       "      <td>True</td>\n",
       "    </tr>\n",
       "    <tr>\n",
       "      <th>3</th>\n",
       "      <td>11937967</td>\n",
       "      <td>2019-12-31T23:46:00.000</td>\n",
       "      <td>31</td>\n",
       "      <td>12</td>\n",
       "      <td>2019</td>\n",
       "      <td>23:46:00.000</td>\n",
       "      <td>23</td>\n",
       "      <td>1231</td>\n",
       "      <td>1</td>\n",
       "      <td>11</td>\n",
       "      <td>...</td>\n",
       "      <td>STREET</td>\n",
       "      <td>1153587</td>\n",
       "      <td>1898480</td>\n",
       "      <td>143A</td>\n",
       "      <td>15</td>\n",
       "      <td>WEAPONS VIOLATION</td>\n",
       "      <td>False</td>\n",
       "      <td>41.877268</td>\n",
       "      <td>-87.711537</td>\n",
       "      <td>False</td>\n",
       "    </tr>\n",
       "    <tr>\n",
       "      <th>4</th>\n",
       "      <td>11938124</td>\n",
       "      <td>2019-12-31T23:37:00.000</td>\n",
       "      <td>31</td>\n",
       "      <td>12</td>\n",
       "      <td>2019</td>\n",
       "      <td>23:37:00.000</td>\n",
       "      <td>23</td>\n",
       "      <td>1231</td>\n",
       "      <td>1</td>\n",
       "      <td>22</td>\n",
       "      <td>...</td>\n",
       "      <td>STREET</td>\n",
       "      <td>1170052</td>\n",
       "      <td>1839142</td>\n",
       "      <td>5112</td>\n",
       "      <td>26</td>\n",
       "      <td>OTHER OFFENSE</td>\n",
       "      <td>False</td>\n",
       "      <td>41.714095</td>\n",
       "      <td>-87.652807</td>\n",
       "      <td>True</td>\n",
       "    </tr>\n",
       "  </tbody>\n",
       "</table>\n",
       "<p>5 rows × 25 columns</p>\n",
       "</div>"
      ],
      "text/plain": [
       "         id                     date  day  month  year          time  hour  \\\n",
       "0  11938228  2019-12-31T23:55:00.000   31     12  2019  23:55:00.000    23   \n",
       "1  11940078  2019-12-31T23:54:00.000   31     12  2019  23:54:00.000    23   \n",
       "2  11938240  2019-12-31T23:48:00.000   31     12  2019  23:48:00.000    23   \n",
       "3  11937967  2019-12-31T23:46:00.000   31     12  2019  23:46:00.000    23   \n",
       "4  11938124  2019-12-31T23:37:00.000   31     12  2019  23:37:00.000    23   \n",
       "\n",
       "   month_day  day_of_week  district  ...    location_description  \\\n",
       "0       1231            1         7  ...                  STREET   \n",
       "1       1231            1         7  ...                SIDEWALK   \n",
       "2       1231            1        15  ...  VEHICLE NON-COMMERCIAL   \n",
       "3       1231            1        11  ...                  STREET   \n",
       "4       1231            1        22  ...                  STREET   \n",
       "\n",
       "   x_coordinate  y_coordinate  iucr fbi_code       primary_type  domestic  \\\n",
       "0       1176896       1859260  143A       15  WEAPONS VIOLATION     False   \n",
       "1       1169736       1862855  0420      04B            BATTERY     False   \n",
       "2       1144466       1897452  143A       15  WEAPONS VIOLATION     False   \n",
       "3       1153587       1898480  143A       15  WEAPONS VIOLATION     False   \n",
       "4       1170052       1839142  5112       26      OTHER OFFENSE     False   \n",
       "\n",
       "    latitude  longitude arrest  \n",
       "0  41.769150 -87.627137   True  \n",
       "1  41.779174 -87.653278  False  \n",
       "2  41.874624 -87.745053   True  \n",
       "3  41.877268 -87.711537  False  \n",
       "4  41.714095 -87.652807   True  \n",
       "\n",
       "[5 rows x 25 columns]"
      ]
     },
     "execution_count": 3,
     "metadata": {},
     "output_type": "execute_result"
    }
   ],
   "source": [
    "# Import 2019 crime data and prepare for testing\n",
    "crime_2019 = os.path.join(\"Resources\", \"crime_clean_2019.csv\") \n",
    "\n",
    "test_df = pd.read_csv(crime_2019)\n",
    "\n",
    "test_df.head()"
   ]
  },
  {
   "cell_type": "code",
   "execution_count": 4,
   "metadata": {
    "ExecuteTime": {
     "end_time": "2020-05-03T23:57:03.357127Z",
     "start_time": "2020-05-03T23:57:03.058866Z"
    }
   },
   "outputs": [
    {
     "data": {
      "text/html": [
       "<div>\n",
       "<style scoped>\n",
       "    .dataframe tbody tr th:only-of-type {\n",
       "        vertical-align: middle;\n",
       "    }\n",
       "\n",
       "    .dataframe tbody tr th {\n",
       "        vertical-align: top;\n",
       "    }\n",
       "\n",
       "    .dataframe thead th {\n",
       "        text-align: right;\n",
       "    }\n",
       "</style>\n",
       "<table border=\"1\" class=\"dataframe\">\n",
       "  <thead>\n",
       "    <tr style=\"text-align: right;\">\n",
       "      <th></th>\n",
       "      <th>month</th>\n",
       "      <th>hour</th>\n",
       "      <th>day_of_week</th>\n",
       "      <th>district</th>\n",
       "      <th>block</th>\n",
       "      <th>ward</th>\n",
       "      <th>beat</th>\n",
       "      <th>community_area</th>\n",
       "      <th>location_description</th>\n",
       "      <th>fbi_code</th>\n",
       "      <th>primary_type</th>\n",
       "      <th>domestic</th>\n",
       "      <th>arrest</th>\n",
       "    </tr>\n",
       "  </thead>\n",
       "  <tbody>\n",
       "    <tr>\n",
       "      <th>0</th>\n",
       "      <td>12</td>\n",
       "      <td>23</td>\n",
       "      <td>5</td>\n",
       "      <td>16</td>\n",
       "      <td>100XX W OHARE ST</td>\n",
       "      <td>41</td>\n",
       "      <td>1651</td>\n",
       "      <td>76</td>\n",
       "      <td>AIRPORT BUILDING NON-TERMINAL - SECURE AREA</td>\n",
       "      <td>06</td>\n",
       "      <td>THEFT</td>\n",
       "      <td>False</td>\n",
       "      <td>False</td>\n",
       "    </tr>\n",
       "    <tr>\n",
       "      <th>1</th>\n",
       "      <td>12</td>\n",
       "      <td>23</td>\n",
       "      <td>5</td>\n",
       "      <td>5</td>\n",
       "      <td>0000X W 113TH PL</td>\n",
       "      <td>34</td>\n",
       "      <td>522</td>\n",
       "      <td>49</td>\n",
       "      <td>RESIDENCE</td>\n",
       "      <td>04B</td>\n",
       "      <td>BATTERY</td>\n",
       "      <td>False</td>\n",
       "      <td>False</td>\n",
       "    </tr>\n",
       "    <tr>\n",
       "      <th>2</th>\n",
       "      <td>12</td>\n",
       "      <td>23</td>\n",
       "      <td>5</td>\n",
       "      <td>19</td>\n",
       "      <td>030XX N LINCOLN AVE</td>\n",
       "      <td>32</td>\n",
       "      <td>1932</td>\n",
       "      <td>6</td>\n",
       "      <td>RESIDENCE</td>\n",
       "      <td>22</td>\n",
       "      <td>LIQUOR LAW VIOLATION</td>\n",
       "      <td>False</td>\n",
       "      <td>True</td>\n",
       "    </tr>\n",
       "    <tr>\n",
       "      <th>3</th>\n",
       "      <td>12</td>\n",
       "      <td>23</td>\n",
       "      <td>5</td>\n",
       "      <td>1</td>\n",
       "      <td>0000X E WACKER PL</td>\n",
       "      <td>42</td>\n",
       "      <td>111</td>\n",
       "      <td>32</td>\n",
       "      <td>HOTEL/MOTEL</td>\n",
       "      <td>08B</td>\n",
       "      <td>BATTERY</td>\n",
       "      <td>True</td>\n",
       "      <td>False</td>\n",
       "    </tr>\n",
       "    <tr>\n",
       "      <th>4</th>\n",
       "      <td>12</td>\n",
       "      <td>23</td>\n",
       "      <td>5</td>\n",
       "      <td>6</td>\n",
       "      <td>078XX S INDIANA AVE</td>\n",
       "      <td>6</td>\n",
       "      <td>623</td>\n",
       "      <td>69</td>\n",
       "      <td>RESIDENCE</td>\n",
       "      <td>14</td>\n",
       "      <td>CRIMINAL DAMAGE</td>\n",
       "      <td>True</td>\n",
       "      <td>False</td>\n",
       "    </tr>\n",
       "  </tbody>\n",
       "</table>\n",
       "</div>"
      ],
      "text/plain": [
       "   month  hour  day_of_week  district                block  ward  beat  \\\n",
       "0     12    23            5        16     100XX W OHARE ST    41  1651   \n",
       "1     12    23            5         5     0000X W 113TH PL    34   522   \n",
       "2     12    23            5        19  030XX N LINCOLN AVE    32  1932   \n",
       "3     12    23            5         1    0000X E WACKER PL    42   111   \n",
       "4     12    23            5         6  078XX S INDIANA AVE     6   623   \n",
       "\n",
       "   community_area                         location_description fbi_code  \\\n",
       "0              76  AIRPORT BUILDING NON-TERMINAL - SECURE AREA       06   \n",
       "1              49                                    RESIDENCE      04B   \n",
       "2               6                                    RESIDENCE       22   \n",
       "3              32                                  HOTEL/MOTEL      08B   \n",
       "4              69                                    RESIDENCE       14   \n",
       "\n",
       "           primary_type  domestic  arrest  \n",
       "0                 THEFT     False   False  \n",
       "1               BATTERY     False   False  \n",
       "2  LIQUOR LAW VIOLATION     False    True  \n",
       "3               BATTERY      True   False  \n",
       "4       CRIMINAL DAMAGE      True   False  "
      ]
     },
     "execution_count": 4,
     "metadata": {},
     "output_type": "execute_result"
    }
   ],
   "source": [
    "training_df=(training_df[['month','hour','day_of_week','district','block','ward','beat','community_area',\n",
    "                                           'location_description','fbi_code','primary_type','domestic',\n",
    "                                           'arrest']])\n",
    "training_df.head()"
   ]
  },
  {
   "cell_type": "code",
   "execution_count": 5,
   "metadata": {
    "ExecuteTime": {
     "end_time": "2020-05-03T23:57:05.931183Z",
     "start_time": "2020-05-03T23:57:05.895278Z"
    }
   },
   "outputs": [
    {
     "data": {
      "text/html": [
       "<div>\n",
       "<style scoped>\n",
       "    .dataframe tbody tr th:only-of-type {\n",
       "        vertical-align: middle;\n",
       "    }\n",
       "\n",
       "    .dataframe tbody tr th {\n",
       "        vertical-align: top;\n",
       "    }\n",
       "\n",
       "    .dataframe thead th {\n",
       "        text-align: right;\n",
       "    }\n",
       "</style>\n",
       "<table border=\"1\" class=\"dataframe\">\n",
       "  <thead>\n",
       "    <tr style=\"text-align: right;\">\n",
       "      <th></th>\n",
       "      <th>month</th>\n",
       "      <th>hour</th>\n",
       "      <th>day_of_week</th>\n",
       "      <th>district</th>\n",
       "      <th>block</th>\n",
       "      <th>ward</th>\n",
       "      <th>beat</th>\n",
       "      <th>community_area</th>\n",
       "      <th>location_description</th>\n",
       "      <th>fbi_code</th>\n",
       "      <th>primary_type</th>\n",
       "      <th>domestic</th>\n",
       "      <th>arrest</th>\n",
       "    </tr>\n",
       "  </thead>\n",
       "  <tbody>\n",
       "    <tr>\n",
       "      <th>0</th>\n",
       "      <td>12</td>\n",
       "      <td>23</td>\n",
       "      <td>1</td>\n",
       "      <td>7</td>\n",
       "      <td>0000X W 69TH ST</td>\n",
       "      <td>6</td>\n",
       "      <td>731</td>\n",
       "      <td>69</td>\n",
       "      <td>STREET</td>\n",
       "      <td>15</td>\n",
       "      <td>WEAPONS VIOLATION</td>\n",
       "      <td>False</td>\n",
       "      <td>True</td>\n",
       "    </tr>\n",
       "    <tr>\n",
       "      <th>1</th>\n",
       "      <td>12</td>\n",
       "      <td>23</td>\n",
       "      <td>1</td>\n",
       "      <td>7</td>\n",
       "      <td>063XX S MAY ST</td>\n",
       "      <td>16</td>\n",
       "      <td>724</td>\n",
       "      <td>68</td>\n",
       "      <td>SIDEWALK</td>\n",
       "      <td>04B</td>\n",
       "      <td>BATTERY</td>\n",
       "      <td>False</td>\n",
       "      <td>False</td>\n",
       "    </tr>\n",
       "    <tr>\n",
       "      <th>2</th>\n",
       "      <td>12</td>\n",
       "      <td>23</td>\n",
       "      <td>1</td>\n",
       "      <td>15</td>\n",
       "      <td>004XX S CICERO AVE</td>\n",
       "      <td>29</td>\n",
       "      <td>1533</td>\n",
       "      <td>25</td>\n",
       "      <td>VEHICLE NON-COMMERCIAL</td>\n",
       "      <td>15</td>\n",
       "      <td>WEAPONS VIOLATION</td>\n",
       "      <td>False</td>\n",
       "      <td>True</td>\n",
       "    </tr>\n",
       "    <tr>\n",
       "      <th>3</th>\n",
       "      <td>12</td>\n",
       "      <td>23</td>\n",
       "      <td>1</td>\n",
       "      <td>11</td>\n",
       "      <td>034XX W JACKSON BLVD</td>\n",
       "      <td>28</td>\n",
       "      <td>1133</td>\n",
       "      <td>27</td>\n",
       "      <td>STREET</td>\n",
       "      <td>15</td>\n",
       "      <td>WEAPONS VIOLATION</td>\n",
       "      <td>False</td>\n",
       "      <td>False</td>\n",
       "    </tr>\n",
       "    <tr>\n",
       "      <th>4</th>\n",
       "      <td>12</td>\n",
       "      <td>23</td>\n",
       "      <td>1</td>\n",
       "      <td>22</td>\n",
       "      <td>012XX W 99TH ST</td>\n",
       "      <td>34</td>\n",
       "      <td>2232</td>\n",
       "      <td>73</td>\n",
       "      <td>STREET</td>\n",
       "      <td>26</td>\n",
       "      <td>OTHER OFFENSE</td>\n",
       "      <td>False</td>\n",
       "      <td>True</td>\n",
       "    </tr>\n",
       "  </tbody>\n",
       "</table>\n",
       "</div>"
      ],
      "text/plain": [
       "   month  hour  day_of_week  district                 block  ward  beat  \\\n",
       "0     12    23            1         7       0000X W 69TH ST     6   731   \n",
       "1     12    23            1         7        063XX S MAY ST    16   724   \n",
       "2     12    23            1        15    004XX S CICERO AVE    29  1533   \n",
       "3     12    23            1        11  034XX W JACKSON BLVD    28  1133   \n",
       "4     12    23            1        22       012XX W 99TH ST    34  2232   \n",
       "\n",
       "   community_area    location_description fbi_code       primary_type  \\\n",
       "0              69                  STREET       15  WEAPONS VIOLATION   \n",
       "1              68                SIDEWALK      04B            BATTERY   \n",
       "2              25  VEHICLE NON-COMMERCIAL       15  WEAPONS VIOLATION   \n",
       "3              27                  STREET       15  WEAPONS VIOLATION   \n",
       "4              73                  STREET       26      OTHER OFFENSE   \n",
       "\n",
       "   domestic  arrest  \n",
       "0     False    True  \n",
       "1     False   False  \n",
       "2     False    True  \n",
       "3     False   False  \n",
       "4     False    True  "
      ]
     },
     "execution_count": 5,
     "metadata": {},
     "output_type": "execute_result"
    }
   ],
   "source": [
    "test_df=(test_df[['month','hour','day_of_week','district','block','ward','beat','community_area',\n",
    "                                           'location_description','fbi_code','primary_type','domestic',\n",
    "                                           'arrest']])\n",
    "test_df.head()"
   ]
  },
  {
   "cell_type": "code",
   "execution_count": 6,
   "metadata": {
    "ExecuteTime": {
     "end_time": "2020-05-03T23:57:11.007615Z",
     "start_time": "2020-05-03T23:57:09.196461Z"
    }
   },
   "outputs": [],
   "source": [
    "from sklearn import tree\n",
    "from sklearn import preprocessing\n",
    "le = preprocessing.LabelEncoder()"
   ]
  },
  {
   "cell_type": "code",
   "execution_count": 7,
   "metadata": {
    "ExecuteTime": {
     "end_time": "2020-05-03T23:57:14.154217Z",
     "start_time": "2020-05-03T23:57:13.268554Z"
    }
   },
   "outputs": [],
   "source": [
    "training_df['domestic'] = le.fit_transform(training_df['domestic'])\n",
    "training_df['block'] = le.fit_transform(training_df['block'])\n",
    "training_df['location_description'] = le.fit_transform(training_df['location_description'])\n",
    "training_df['primary_type'] = le.fit_transform(training_df['primary_type'])\n",
    "training_df['fbi_code'] = le.fit_transform(training_df['fbi_code'])\n",
    "training_df['arrest'] = le.fit_transform(training_df['arrest'])"
   ]
  },
  {
   "cell_type": "code",
   "execution_count": 8,
   "metadata": {
    "ExecuteTime": {
     "end_time": "2020-05-03T23:57:18.237531Z",
     "start_time": "2020-05-03T23:57:17.979224Z"
    }
   },
   "outputs": [],
   "source": [
    "test_df['domestic'] = le.fit_transform(test_df['domestic'])\n",
    "test_df['block'] = le.fit_transform(test_df['block'])\n",
    "test_df['location_description'] = le.fit_transform(test_df['location_description'])\n",
    "test_df['primary_type'] = le.fit_transform(test_df['primary_type'])\n",
    "test_df['fbi_code'] = le.fit_transform(test_df['fbi_code'])\n",
    "test_df['arrest'] = le.fit_transform(test_df['arrest'])"
   ]
  },
  {
   "cell_type": "code",
   "execution_count": 9,
   "metadata": {
    "ExecuteTime": {
     "end_time": "2020-05-03T23:57:21.345203Z",
     "start_time": "2020-05-03T23:57:21.204575Z"
    }
   },
   "outputs": [],
   "source": [
    "# Assign X (data) and y (target) for train\n",
    "X_train = training_df.drop(\"arrest\", axis=1)\n",
    "y_train = training_df[\"arrest\"]"
   ]
  },
  {
   "cell_type": "code",
   "execution_count": 10,
   "metadata": {
    "ExecuteTime": {
     "end_time": "2020-05-03T23:57:24.567811Z",
     "start_time": "2020-05-03T23:57:24.515936Z"
    }
   },
   "outputs": [],
   "source": [
    "# Assign X (data) and y (target) for test\n",
    "X_test = test_df.drop(\"arrest\", axis=1)\n",
    "y_test = test_df[\"arrest\"]"
   ]
  },
  {
   "cell_type": "code",
   "execution_count": 20,
   "metadata": {
    "ExecuteTime": {
     "end_time": "2020-05-04T00:05:27.463368Z",
     "start_time": "2020-05-04T00:05:26.837031Z"
    }
   },
   "outputs": [],
   "source": [
    "X = X_test + X_train\n",
    "y = y_train + y_test"
   ]
  },
  {
   "cell_type": "code",
   "execution_count": 11,
   "metadata": {
    "ExecuteTime": {
     "end_time": "2020-05-03T23:57:27.085068Z",
     "start_time": "2020-05-03T23:57:27.068094Z"
    }
   },
   "outputs": [
    {
     "name": "stdout",
     "output_type": "stream",
     "text": [
      "Training X Shape: (787901, 12)\n",
      "Training y Shape: (787901,)\n",
      "Testing X Shape: (256908, 12)\n",
      "Testing y Shape: (256908,)\n"
     ]
    }
   ],
   "source": [
    "print('Training X Shape:', X_train.shape)\n",
    "print('Training y Shape:', y_train.shape)\n",
    "print('Testing X Shape:', X_test.shape)\n",
    "print('Testing y Shape:', y_test.shape)\n"
   ]
  },
  {
   "cell_type": "code",
   "execution_count": 12,
   "metadata": {
    "ExecuteTime": {
     "end_time": "2020-05-03T23:57:40.091152Z",
     "start_time": "2020-05-03T23:57:32.443611Z"
    }
   },
   "outputs": [
    {
     "data": {
      "text/plain": [
       "0.7463955968673611"
      ]
     },
     "execution_count": 12,
     "metadata": {},
     "output_type": "execute_result"
    }
   ],
   "source": [
    "# Select Algorithm\n",
    "clf = tree.DecisionTreeClassifier()\n",
    "clf = clf.fit(X_train, y_train)\n",
    "clf.score(X_test, y_test)"
   ]
  },
  {
   "cell_type": "code",
   "execution_count": 13,
   "metadata": {
    "ExecuteTime": {
     "end_time": "2020-05-04T00:00:55.648682Z",
     "start_time": "2020-05-03T23:57:46.117942Z"
    }
   },
   "outputs": [
    {
     "data": {
      "text/plain": [
       "0.862223052610273"
      ]
     },
     "execution_count": 13,
     "metadata": {},
     "output_type": "execute_result"
    }
   ],
   "source": [
    "from sklearn.ensemble import RandomForestClassifier\n",
    "rf = RandomForestClassifier(n_estimators=100, random_state=42)\n",
    "rf = rf.fit(X_train, y_train)\n",
    "rf.score(X_test, y_test)"
   ]
  },
  {
   "cell_type": "code",
   "execution_count": 19,
   "metadata": {
    "ExecuteTime": {
     "end_time": "2020-05-04T00:04:52.814364Z",
     "start_time": "2020-05-04T00:04:52.594957Z"
    }
   },
   "outputs": [
    {
     "data": {
      "text/plain": [
       "[(0.23127835937145055, 'fbi_code'),\n",
       " (0.1313513418877479, 'block'),\n",
       " (0.10801703595626373, 'primary_type'),\n",
       " (0.10353946071023291, 'location_description'),\n",
       " (0.09449989760804252, 'hour'),\n",
       " (0.08212130393464712, 'month'),\n",
       " (0.07173006061350252, 'beat'),\n",
       " (0.06605433763945817, 'day_of_week'),\n",
       " (0.03925706840290752, 'community_area'),\n",
       " (0.03778334081182009, 'ward'),\n",
       " (0.018246720633857058, 'district'),\n",
       " (0.01612107243006995, 'domestic')]"
      ]
     },
     "execution_count": 19,
     "metadata": {},
     "output_type": "execute_result"
    }
   ],
   "source": [
    "feature_importance = sorted(zip(rf.feature_importances_, X), reverse=True)\n",
    "feature_importance"
   ]
  },
  {
   "cell_type": "code",
   "execution_count": null,
   "metadata": {
    "ExecuteTime": {
     "end_time": "2020-05-02T16:14:23.889292Z",
     "start_time": "2020-05-02T16:14:21.423452Z"
    }
   },
   "outputs": [],
   "source": []
  },
  {
   "cell_type": "code",
   "execution_count": null,
   "metadata": {},
   "outputs": [],
   "source": []
  }
 ],
 "metadata": {
  "kernelspec": {
   "display_name": "Python 3",
   "language": "python",
   "name": "python3"
  },
  "language_info": {
   "codemirror_mode": {
    "name": "ipython",
    "version": 3
   },
   "file_extension": ".py",
   "mimetype": "text/x-python",
   "name": "python",
   "nbconvert_exporter": "python",
   "pygments_lexer": "ipython3",
   "version": "3.6.9"
  },
  "varInspector": {
   "cols": {
    "lenName": 16,
    "lenType": 16,
    "lenVar": 40
   },
   "kernels_config": {
    "python": {
     "delete_cmd_postfix": "",
     "delete_cmd_prefix": "del ",
     "library": "var_list.py",
     "varRefreshCmd": "print(var_dic_list())"
    },
    "r": {
     "delete_cmd_postfix": ") ",
     "delete_cmd_prefix": "rm(",
     "library": "var_list.r",
     "varRefreshCmd": "cat(var_dic_list()) "
    }
   },
   "types_to_exclude": [
    "module",
    "function",
    "builtin_function_or_method",
    "instance",
    "_Feature"
   ],
   "window_display": false
  }
 },
 "nbformat": 4,
 "nbformat_minor": 2
}
