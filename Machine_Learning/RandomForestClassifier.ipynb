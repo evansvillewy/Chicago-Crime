{
 "cells": [
  {
   "cell_type": "code",
   "execution_count": 232,
   "metadata": {},
   "outputs": [],
   "source": [
    "# Import Dependencies\n",
    "import numpy as np\n",
    "import pandas as pd\n",
    "import os\n",
    "from sklearn.model_selection import train_test_split\n",
    "import pickle\n",
    "import joblib\n",
    "import json\n",
    "from sklearn import preprocessing\n",
    "from sklearn.preprocessing import LabelEncoder\n",
    "number = preprocessing.LabelEncoder()"
   ]
  },
  {
   "cell_type": "markdown",
   "metadata": {},
   "source": [
    "## Import and Check Chicago Crime Datasets"
   ]
  },
  {
   "cell_type": "code",
   "execution_count": 159,
   "metadata": {},
   "outputs": [],
   "source": [
    "# Import 2016-2019 crime data\n",
    "crime_2016 = os.path.join(\"..\",\"Resources\", \"crime_clean_2016.csv\") \n",
    "crime_2017 = os.path.join(\"..\",\"Resources\", \"crime_clean_2017.csv\")\n",
    "crime_2018 = os.path.join(\"..\",\"Resources\", \"crime_clean_2018.csv\")\n",
    "crime_2019 = os.path.join(\"..\",\"Resources\", \"crime_clean_2019.csv\")\n",
    "\n",
    "crime_2016_df_final = pd.read_csv(crime_2016)\n",
    "crime_2017_df_final = pd.read_csv(crime_2017)\n",
    "crime_2018_df_final = pd.read_csv(crime_2018)\n",
    "\n",
    "# 2019 is the test data\n",
    "test_data = pd.read_csv(crime_2019)\n",
    "\n",
    "# Join datasets for 2016, 2017, and 2018 for the training data\n",
    "join1 = crime_2016_df_final.append(crime_2017_df_final)\n",
    "training_data = join1.append(crime_2018_df_final)\n",
    "X = training_data.append(test_data).copy()"
   ]
  },
  {
   "cell_type": "code",
   "execution_count": 119,
   "metadata": {},
   "outputs": [],
   "source": [
    "#function to Convert data to numbers\n",
    "from sklearn import preprocessing\n",
    "def convert(data):\n",
    "    number = preprocessing.LabelEncoder()\n",
    "    data['date'] = number.fit_transform(data.date)\n",
    "    data['time'] = number.fit_transform(data.time)\n",
    "    data['block'] = number.fit_transform(data.block)\n",
    "    data['description'] = number.fit_transform(data.description)\n",
    "    data['location_description'] = number.fit_transform(data.location_description)\n",
    "    data['iucr'] = number.fit_transform(data.iucr)\n",
    "    data['fbi_code'] = number.fit_transform(data.fbi_code)\n",
    "    data['primary_type'] = number.fit_transform(data.primary_type)\n",
    "    data['domestic'] = number.fit_transform(data.domestic)\n",
    "    data['latitude'] = number.fit_transform(data.latitude)\n",
    "    data['longitude'] = number.fit_transform(data.longitude)\n",
    "    data['arrest'] = number.fit_transform(data.arrest)\n",
    "    return data"
   ]
  },
  {
   "cell_type": "code",
   "execution_count": 220,
   "metadata": {},
   "outputs": [
    {
     "data": {
      "text/plain": [
       "0         0\n",
       "1         0\n",
       "2         1\n",
       "3         0\n",
       "4         0\n",
       "         ..\n",
       "256903    0\n",
       "256904    0\n",
       "256905    0\n",
       "256906    0\n",
       "256907    0\n",
       "Name: arrest, Length: 1044809, dtype: int64"
      ]
     },
     "execution_count": 220,
     "metadata": {},
     "output_type": "execute_result"
    }
   ],
   "source": [
    "y"
   ]
  },
  {
   "cell_type": "code",
   "execution_count": 244,
   "metadata": {},
   "outputs": [
    {
     "data": {
      "text/plain": [
       "array([32,  2, 16,  6, 29, 33,  3,  5, 23,  1, 25,  9, 17, 18, 28,  8, 11,\n",
       "       22, 13, 15, 30, 14, 20,  0, 31, 26,  4, 24,  7, 10, 12, 27, 19, 21])"
      ]
     },
     "execution_count": 244,
     "metadata": {},
     "output_type": "execute_result"
    }
   ],
   "source": [
    "c = X['location_description'].unique()\n",
    "b = X['primary_type'].unique()\n",
    "\n",
    "encoded_loc = number.fit_transform(c).astype('int')\n",
    "encoded_type = number.fit_transform(b).astype('int')\n",
    "#inverse_transform(encoded)\n",
    "#c.shape\n",
    "encoded_type"
   ]
  },
  {
   "cell_type": "code",
   "execution_count": 197,
   "metadata": {},
   "outputs": [
    {
     "data": {
      "text/plain": [
       "array(['THEFT', 'BATTERY', 'LIQUOR LAW VIOLATION', 'CRIMINAL DAMAGE',\n",
       "       'ROBBERY', 'WEAPONS VIOLATION', 'BURGLARY', 'CRIM SEXUAL ASSAULT',\n",
       "       'OFFENSE INVOLVING CHILDREN', 'ASSAULT', 'OTHER OFFENSE',\n",
       "       'DECEPTIVE PRACTICE', 'MOTOR VEHICLE THEFT', 'NARCOTICS',\n",
       "       'PUBLIC PEACE VIOLATION', 'CRIMINAL TRESPASS', 'HOMICIDE',\n",
       "       'OBSCENITY', 'INTERFERENCE WITH PUBLIC OFFICER', 'KIDNAPPING',\n",
       "       'SEX OFFENSE', 'INTIMIDATION', 'NON-CRIMINAL', 'ARSON', 'STALKING',\n",
       "       'PROSTITUTION', 'CONCEALED CARRY LICENSE VIOLATION',\n",
       "       'OTHER NARCOTIC VIOLATION', 'CRIMINAL SEXUAL ASSAULT', 'GAMBLING',\n",
       "       'HUMAN TRAFFICKING', 'PUBLIC INDECENCY', 'NON - CRIMINAL',\n",
       "       'NON-CRIMINAL (SUBJECT SPECIFIED)'], dtype=object)"
      ]
     },
     "execution_count": 197,
     "metadata": {},
     "output_type": "execute_result"
    }
   ],
   "source": [
    "b"
   ]
  },
  {
   "cell_type": "code",
   "execution_count": 245,
   "metadata": {},
   "outputs": [],
   "source": [
    "loc_dict = dict(zip(c,encoded_loc))\n",
    "type_dict = dict(zip(b,encoded_type))"
   ]
  },
  {
   "cell_type": "code",
   "execution_count": 200,
   "metadata": {},
   "outputs": [
    {
     "data": {
      "text/plain": [
       "{'THEFT': 32,\n",
       " 'BATTERY': 2,\n",
       " 'LIQUOR LAW VIOLATION': 16,\n",
       " 'CRIMINAL DAMAGE': 6,\n",
       " 'ROBBERY': 29,\n",
       " 'WEAPONS VIOLATION': 33,\n",
       " 'BURGLARY': 3,\n",
       " 'CRIM SEXUAL ASSAULT': 5,\n",
       " 'OFFENSE INVOLVING CHILDREN': 23,\n",
       " 'ASSAULT': 1,\n",
       " 'OTHER OFFENSE': 25,\n",
       " 'DECEPTIVE PRACTICE': 9,\n",
       " 'MOTOR VEHICLE THEFT': 17,\n",
       " 'NARCOTICS': 18,\n",
       " 'PUBLIC PEACE VIOLATION': 28,\n",
       " 'CRIMINAL TRESPASS': 8,\n",
       " 'HOMICIDE': 11,\n",
       " 'OBSCENITY': 22,\n",
       " 'INTERFERENCE WITH PUBLIC OFFICER': 13,\n",
       " 'KIDNAPPING': 15,\n",
       " 'SEX OFFENSE': 30,\n",
       " 'INTIMIDATION': 14,\n",
       " 'NON-CRIMINAL': 20,\n",
       " 'ARSON': 0,\n",
       " 'STALKING': 31,\n",
       " 'PROSTITUTION': 26,\n",
       " 'CONCEALED CARRY LICENSE VIOLATION': 4,\n",
       " 'OTHER NARCOTIC VIOLATION': 24,\n",
       " 'CRIMINAL SEXUAL ASSAULT': 7,\n",
       " 'GAMBLING': 10,\n",
       " 'HUMAN TRAFFICKING': 12,\n",
       " 'PUBLIC INDECENCY': 27,\n",
       " 'NON - CRIMINAL': 19,\n",
       " 'NON-CRIMINAL (SUBJECT SPECIFIED)': 21}"
      ]
     },
     "execution_count": 200,
     "metadata": {},
     "output_type": "execute_result"
    }
   ],
   "source": [
    "type_dict"
   ]
  },
  {
   "cell_type": "code",
   "execution_count": 181,
   "metadata": {},
   "outputs": [
    {
     "data": {
      "text/plain": [
       "99"
      ]
     },
     "execution_count": 181,
     "metadata": {},
     "output_type": "execute_result"
    }
   ],
   "source": [
    "loc_dict.get('HOUSE')"
   ]
  },
  {
   "cell_type": "code",
   "execution_count": 120,
   "metadata": {},
   "outputs": [],
   "source": [
    "#function to drop unneeded columns/keeping only features needed for model\n",
    "def set_data(data):\n",
    "    data = (data[[\n",
    "              #'date'\n",
    "              #'day'\n",
    "              'month'\n",
    "              #,'year'\n",
    "              #,'time'\n",
    "              ,'hour'\n",
    "              #,'month_day'\n",
    "              ,'day_of_week'\n",
    "              #,'district'\n",
    "              #,'block'\n",
    "              #,'ward'\n",
    "              #,'beat'\n",
    "              #,'community_area'\n",
    "              #,'description'\n",
    "              ,'location_description'\n",
    "              #,'x_coordinate'\n",
    "              #,'y_coordinate'\n",
    "              #,'iucr'\n",
    "              #,'fbi_code'\n",
    "              ,'primary_type'\n",
    "              #,'domestic'\n",
    "              #,'latitude'\n",
    "              #,'longitude'\n",
    "            ]])\n",
    "    return data"
   ]
  },
  {
   "cell_type": "code",
   "execution_count": 121,
   "metadata": {},
   "outputs": [],
   "source": [
    "#LabelEncode the data\n",
    "X = convert(X)\n",
    "y = X[\"arrest\"]"
   ]
  },
  {
   "cell_type": "code",
   "execution_count": 122,
   "metadata": {},
   "outputs": [],
   "source": [
    "X = set_data(X)"
   ]
  },
  {
   "cell_type": "code",
   "execution_count": 134,
   "metadata": {},
   "outputs": [],
   "source": [
    "X_train, X_test, y_train, y_test = train_test_split(X, y, train_size=0.1,test_size=0.1, random_state=42)"
   ]
  },
  {
   "cell_type": "code",
   "execution_count": 135,
   "metadata": {},
   "outputs": [],
   "source": [
    "#Scale the data for SVM, requires normalization\n",
    "#reference: https://scikit-learn.org/stable/auto_examples/preprocessing/plot_scaling_importance.html\n",
    "from sklearn.preprocessing import StandardScaler\n",
    "y_train = np.array(y_train).reshape((len(y_train), 1),order='C')\n",
    "y_test = np.array(y_test).reshape((len(y_test), 1),order='C')\n",
    "\n",
    "X_scaler = StandardScaler().fit(X_train)\n",
    "\n",
    "X_train_scaled = X_scaler.transform(X_train)\n",
    "X_test_scaled = X_scaler.transform(X_test)"
   ]
  },
  {
   "cell_type": "code",
   "execution_count": 136,
   "metadata": {},
   "outputs": [],
   "source": [
    "#model is faster with C-contiguous data\n",
    "#reference: https://scikit-learn.org/stable/modules/svm.html\n",
    "X_train_scaled = np.asarray(X_train_scaled, order='C')\n",
    "X_test_scaled = np.asarray(X_test_scaled, order='C')"
   ]
  },
  {
   "cell_type": "code",
   "execution_count": 126,
   "metadata": {
    "scrolled": true
   },
   "outputs": [
    {
     "data": {
      "text/plain": [
       "(208961, 5)"
      ]
     },
     "execution_count": 126,
     "metadata": {},
     "output_type": "execute_result"
    }
   ],
   "source": [
    "X_train_scaled.shape"
   ]
  },
  {
   "cell_type": "code",
   "execution_count": 127,
   "metadata": {},
   "outputs": [
    {
     "data": {
      "text/plain": [
       "(208961,)"
      ]
     },
     "execution_count": 127,
     "metadata": {},
     "output_type": "execute_result"
    }
   ],
   "source": [
    "y_train.ravel().shape"
   ]
  },
  {
   "cell_type": "code",
   "execution_count": 128,
   "metadata": {},
   "outputs": [
    {
     "data": {
      "text/plain": [
       "array([[0],\n",
       "       [1],\n",
       "       [0],\n",
       "       ...,\n",
       "       [0],\n",
       "       [0],\n",
       "       [0]], dtype=int64)"
      ]
     },
     "execution_count": 128,
     "metadata": {},
     "output_type": "execute_result"
    }
   ],
   "source": [
    "y_train"
   ]
  },
  {
   "cell_type": "code",
   "execution_count": 129,
   "metadata": {},
   "outputs": [
    {
     "data": {
      "text/plain": [
       "(208962, 1)"
      ]
     },
     "execution_count": 129,
     "metadata": {},
     "output_type": "execute_result"
    }
   ],
   "source": [
    "y_test.shape"
   ]
  },
  {
   "cell_type": "code",
   "execution_count": 131,
   "metadata": {
    "scrolled": true
   },
   "outputs": [
    {
     "data": {
      "text/plain": [
       "MLPClassifier(activation='relu', alpha=0.001, batch_size='auto', beta_1=0.9,\n",
       "              beta_2=0.999, early_stopping=False, epsilon=1e-08,\n",
       "              hidden_layer_sizes=(50, 100, 50), learning_rate='invscaling',\n",
       "              learning_rate_init=0.001, max_iter=7000, momentum=0.9,\n",
       "              n_iter_no_change=10, nesterovs_momentum=True, power_t=0.5,\n",
       "              random_state=2, shuffle=True, solver='adam', tol=0.0001,\n",
       "              validation_fraction=0.1, verbose=False, warm_start=False)"
      ]
     },
     "execution_count": 131,
     "metadata": {},
     "output_type": "execute_result"
    }
   ],
   "source": [
    "# Support vector machine linear classifier\n",
    "from sklearn.neural_network import MLPClassifier\n",
    "\n",
    "\n",
    "model = MLPClassifier( max_iter=7000,activation='relu',alpha=.001,hidden_layer_sizes=(50, 100, 50),\n",
    "                     learning_rate='invscaling', solver= 'adam',random_state=2)\n",
    "\n",
    "model.fit(X_train_scaled, y_train.ravel())"
   ]
  },
  {
   "cell_type": "code",
   "execution_count": 137,
   "metadata": {},
   "outputs": [
    {
     "data": {
      "text/plain": [
       "MLPClassifier(activation='tanh', alpha=0.05, batch_size='auto', beta_1=0.9,\n",
       "              beta_2=0.999, early_stopping=False, epsilon=1e-08,\n",
       "              hidden_layer_sizes=(50, 100, 50), learning_rate='adaptive',\n",
       "              learning_rate_init=0.001, max_iter=500, momentum=0.9,\n",
       "              n_iter_no_change=10, nesterovs_momentum=True, power_t=0.5,\n",
       "              random_state=None, shuffle=True, solver='adam', tol=0.0001,\n",
       "              validation_fraction=0.1, verbose=False, warm_start=False)"
      ]
     },
     "execution_count": 137,
     "metadata": {},
     "output_type": "execute_result"
    }
   ],
   "source": [
    "model = MLPClassifier( max_iter=500,activation='tanh',alpha=.05,hidden_layer_sizes=(50, 100, 50),\n",
    "                     learning_rate='adaptive', solver= 'adam')\n",
    "model.fit(X_train_scaled, y_train.ravel())"
   ]
  },
  {
   "cell_type": "code",
   "execution_count": 138,
   "metadata": {},
   "outputs": [
    {
     "name": "stdout",
     "output_type": "stream",
     "text": [
      "Accuracy of MLPClassifier : 0.8651429446502235\n",
      "Test Acc: 0.865\n",
      "              precision    recall  f1-score   support\n",
      "\n",
      "           0       0.87      0.98      0.92     83112\n",
      "           1       0.85      0.41      0.56     21369\n",
      "\n",
      "    accuracy                           0.87    104481\n",
      "   macro avg       0.86      0.70      0.74    104481\n",
      "weighted avg       0.86      0.87      0.85    104481\n",
      "\n"
     ]
    }
   ],
   "source": [
    "#https://gist.github.com/WittmannF/60680723ed8dd0cb993051a7448f7805\n",
    "def accuracy(confusion_matrix):\n",
    "   diagonal_sum = confusion_matrix.trace()\n",
    "   sum_of_all_elements = confusion_matrix.sum()\n",
    "   return diagonal_sum / sum_of_all_elements\n",
    "\n",
    "#Predicting y for X_val\n",
    "y_pred = model.predict(X_test_scaled)\n",
    "\n",
    "#Importing Confusion Matrix\n",
    "from sklearn.metrics import classification_report\n",
    "from sklearn.metrics import confusion_matrix\n",
    "#Comparing the predictions against the actual observations in y_val\n",
    "cm = confusion_matrix(y_pred, y_test)\n",
    "\n",
    "#Printing the accuracy\n",
    "print('Accuracy of MLPClassifier :', accuracy(cm))\n",
    "print('Test Acc: %.3f' % model.score(X_test_scaled, y_test))\n",
    "print(classification_report(y_test, y_pred))"
   ]
  },
  {
   "cell_type": "code",
   "execution_count": 133,
   "metadata": {},
   "outputs": [
    {
     "data": {
      "text/plain": [
       "['MLP_model.sav']"
      ]
     },
     "execution_count": 133,
     "metadata": {},
     "output_type": "execute_result"
    }
   ],
   "source": [
    "# save the model to disk\n",
    "filename = 'MLP_model.sav'\n",
    "joblib.dump(model, filename)"
   ]
  },
  {
   "cell_type": "code",
   "execution_count": 143,
   "metadata": {},
   "outputs": [
    {
     "data": {
      "text/html": [
       "<div>\n",
       "<style scoped>\n",
       "    .dataframe tbody tr th:only-of-type {\n",
       "        vertical-align: middle;\n",
       "    }\n",
       "\n",
       "    .dataframe tbody tr th {\n",
       "        vertical-align: top;\n",
       "    }\n",
       "\n",
       "    .dataframe thead th {\n",
       "        text-align: right;\n",
       "    }\n",
       "</style>\n",
       "<table border=\"1\" class=\"dataframe\">\n",
       "  <thead>\n",
       "    <tr style=\"text-align: right;\">\n",
       "      <th></th>\n",
       "      <th>month</th>\n",
       "      <th>hour</th>\n",
       "      <th>day_of_week</th>\n",
       "      <th>location_description</th>\n",
       "      <th>primary_type</th>\n",
       "    </tr>\n",
       "  </thead>\n",
       "  <tbody>\n",
       "    <tr>\n",
       "      <td>0</td>\n",
       "      <td>12</td>\n",
       "      <td>23</td>\n",
       "      <td>5</td>\n",
       "      <td>3</td>\n",
       "      <td>32</td>\n",
       "    </tr>\n",
       "  </tbody>\n",
       "</table>\n",
       "</div>"
      ],
      "text/plain": [
       "   month  hour  day_of_week  location_description  primary_type\n",
       "0     12    23            5                     3            32"
      ]
     },
     "execution_count": 143,
     "metadata": {},
     "output_type": "execute_result"
    }
   ],
   "source": [
    "X.head(1)"
   ]
  },
  {
   "cell_type": "code",
   "execution_count": 144,
   "metadata": {},
   "outputs": [
    {
     "data": {
      "text/html": [
       "<div>\n",
       "<style scoped>\n",
       "    .dataframe tbody tr th:only-of-type {\n",
       "        vertical-align: middle;\n",
       "    }\n",
       "\n",
       "    .dataframe tbody tr th {\n",
       "        vertical-align: top;\n",
       "    }\n",
       "\n",
       "    .dataframe thead th {\n",
       "        text-align: right;\n",
       "    }\n",
       "</style>\n",
       "<table border=\"1\" class=\"dataframe\">\n",
       "  <thead>\n",
       "    <tr style=\"text-align: right;\">\n",
       "      <th></th>\n",
       "      <th>id</th>\n",
       "      <th>date</th>\n",
       "      <th>day</th>\n",
       "      <th>month</th>\n",
       "      <th>year</th>\n",
       "      <th>time</th>\n",
       "      <th>hour</th>\n",
       "      <th>month_day</th>\n",
       "      <th>day_of_week</th>\n",
       "      <th>district</th>\n",
       "      <th>...</th>\n",
       "      <th>location_description</th>\n",
       "      <th>x_coordinate</th>\n",
       "      <th>y_coordinate</th>\n",
       "      <th>iucr</th>\n",
       "      <th>fbi_code</th>\n",
       "      <th>primary_type</th>\n",
       "      <th>domestic</th>\n",
       "      <th>latitude</th>\n",
       "      <th>longitude</th>\n",
       "      <th>arrest</th>\n",
       "    </tr>\n",
       "  </thead>\n",
       "  <tbody>\n",
       "    <tr>\n",
       "      <td>0</td>\n",
       "      <td>10819224</td>\n",
       "      <td>2016-12-31T23:59:00.000</td>\n",
       "      <td>31</td>\n",
       "      <td>12</td>\n",
       "      <td>2016</td>\n",
       "      <td>23:59:00.000</td>\n",
       "      <td>23</td>\n",
       "      <td>1231</td>\n",
       "      <td>5</td>\n",
       "      <td>16</td>\n",
       "      <td>...</td>\n",
       "      <td>AIRPORT BUILDING NON-TERMINAL - SECURE AREA</td>\n",
       "      <td>1100658</td>\n",
       "      <td>1934241</td>\n",
       "      <td>0810</td>\n",
       "      <td>06</td>\n",
       "      <td>THEFT</td>\n",
       "      <td>False</td>\n",
       "      <td>41.976290</td>\n",
       "      <td>-87.905227</td>\n",
       "      <td>False</td>\n",
       "    </tr>\n",
       "    <tr>\n",
       "      <td>1</td>\n",
       "      <td>10801137</td>\n",
       "      <td>2016-12-31T23:58:00.000</td>\n",
       "      <td>31</td>\n",
       "      <td>12</td>\n",
       "      <td>2016</td>\n",
       "      <td>23:58:00.000</td>\n",
       "      <td>23</td>\n",
       "      <td>1231</td>\n",
       "      <td>5</td>\n",
       "      <td>5</td>\n",
       "      <td>...</td>\n",
       "      <td>RESIDENCE</td>\n",
       "      <td>1178014</td>\n",
       "      <td>1829709</td>\n",
       "      <td>0430</td>\n",
       "      <td>04B</td>\n",
       "      <td>BATTERY</td>\n",
       "      <td>False</td>\n",
       "      <td>41.688033</td>\n",
       "      <td>-87.623931</td>\n",
       "      <td>False</td>\n",
       "    </tr>\n",
       "    <tr>\n",
       "      <td>2</td>\n",
       "      <td>10801110</td>\n",
       "      <td>2016-12-31T23:55:00.000</td>\n",
       "      <td>31</td>\n",
       "      <td>12</td>\n",
       "      <td>2016</td>\n",
       "      <td>23:55:00.000</td>\n",
       "      <td>23</td>\n",
       "      <td>1231</td>\n",
       "      <td>5</td>\n",
       "      <td>19</td>\n",
       "      <td>...</td>\n",
       "      <td>RESIDENCE</td>\n",
       "      <td>1166154</td>\n",
       "      <td>1920300</td>\n",
       "      <td>2250</td>\n",
       "      <td>22</td>\n",
       "      <td>LIQUOR LAW VIOLATION</td>\n",
       "      <td>False</td>\n",
       "      <td>41.936885</td>\n",
       "      <td>-87.664770</td>\n",
       "      <td>True</td>\n",
       "    </tr>\n",
       "    <tr>\n",
       "      <td>3</td>\n",
       "      <td>10802006</td>\n",
       "      <td>2016-12-31T23:55:00.000</td>\n",
       "      <td>31</td>\n",
       "      <td>12</td>\n",
       "      <td>2016</td>\n",
       "      <td>23:55:00.000</td>\n",
       "      <td>23</td>\n",
       "      <td>1231</td>\n",
       "      <td>5</td>\n",
       "      <td>1</td>\n",
       "      <td>...</td>\n",
       "      <td>HOTEL/MOTEL</td>\n",
       "      <td>1176964</td>\n",
       "      <td>1902140</td>\n",
       "      <td>0486</td>\n",
       "      <td>08B</td>\n",
       "      <td>BATTERY</td>\n",
       "      <td>True</td>\n",
       "      <td>41.886815</td>\n",
       "      <td>-87.625593</td>\n",
       "      <td>False</td>\n",
       "    </tr>\n",
       "    <tr>\n",
       "      <td>4</td>\n",
       "      <td>10801865</td>\n",
       "      <td>2016-12-31T23:54:00.000</td>\n",
       "      <td>31</td>\n",
       "      <td>12</td>\n",
       "      <td>2016</td>\n",
       "      <td>23:54:00.000</td>\n",
       "      <td>23</td>\n",
       "      <td>1231</td>\n",
       "      <td>5</td>\n",
       "      <td>6</td>\n",
       "      <td>...</td>\n",
       "      <td>RESIDENCE</td>\n",
       "      <td>1178949</td>\n",
       "      <td>1853139</td>\n",
       "      <td>1310</td>\n",
       "      <td>14</td>\n",
       "      <td>CRIMINAL DAMAGE</td>\n",
       "      <td>True</td>\n",
       "      <td>41.752307</td>\n",
       "      <td>-87.619798</td>\n",
       "      <td>False</td>\n",
       "    </tr>\n",
       "    <tr>\n",
       "      <td>5</td>\n",
       "      <td>10802735</td>\n",
       "      <td>2016-12-31T23:50:00.000</td>\n",
       "      <td>31</td>\n",
       "      <td>12</td>\n",
       "      <td>2016</td>\n",
       "      <td>23:50:00.000</td>\n",
       "      <td>23</td>\n",
       "      <td>1231</td>\n",
       "      <td>5</td>\n",
       "      <td>17</td>\n",
       "      <td>...</td>\n",
       "      <td>ALLEY</td>\n",
       "      <td>1147645</td>\n",
       "      <td>1927783</td>\n",
       "      <td>031A</td>\n",
       "      <td>03</td>\n",
       "      <td>ROBBERY</td>\n",
       "      <td>False</td>\n",
       "      <td>41.957795</td>\n",
       "      <td>-87.732601</td>\n",
       "      <td>False</td>\n",
       "    </tr>\n",
       "    <tr>\n",
       "      <td>6</td>\n",
       "      <td>10801291</td>\n",
       "      <td>2016-12-31T23:50:00.000</td>\n",
       "      <td>31</td>\n",
       "      <td>12</td>\n",
       "      <td>2016</td>\n",
       "      <td>23:50:00.000</td>\n",
       "      <td>23</td>\n",
       "      <td>1231</td>\n",
       "      <td>5</td>\n",
       "      <td>14</td>\n",
       "      <td>...</td>\n",
       "      <td>RESIDENCE</td>\n",
       "      <td>1152529</td>\n",
       "      <td>1911998</td>\n",
       "      <td>0460</td>\n",
       "      <td>08B</td>\n",
       "      <td>BATTERY</td>\n",
       "      <td>False</td>\n",
       "      <td>41.914384</td>\n",
       "      <td>-87.715064</td>\n",
       "      <td>False</td>\n",
       "    </tr>\n",
       "    <tr>\n",
       "      <td>7</td>\n",
       "      <td>10801171</td>\n",
       "      <td>2016-12-31T23:47:00.000</td>\n",
       "      <td>31</td>\n",
       "      <td>12</td>\n",
       "      <td>2016</td>\n",
       "      <td>23:47:00.000</td>\n",
       "      <td>23</td>\n",
       "      <td>1231</td>\n",
       "      <td>5</td>\n",
       "      <td>1</td>\n",
       "      <td>...</td>\n",
       "      <td>HOTEL/MOTEL</td>\n",
       "      <td>1177683</td>\n",
       "      <td>1902638</td>\n",
       "      <td>0486</td>\n",
       "      <td>08B</td>\n",
       "      <td>BATTERY</td>\n",
       "      <td>True</td>\n",
       "      <td>41.888165</td>\n",
       "      <td>-87.622937</td>\n",
       "      <td>False</td>\n",
       "    </tr>\n",
       "    <tr>\n",
       "      <td>8</td>\n",
       "      <td>10801143</td>\n",
       "      <td>2016-12-31T23:45:00.000</td>\n",
       "      <td>31</td>\n",
       "      <td>12</td>\n",
       "      <td>2016</td>\n",
       "      <td>23:45:00.000</td>\n",
       "      <td>23</td>\n",
       "      <td>1231</td>\n",
       "      <td>5</td>\n",
       "      <td>15</td>\n",
       "      <td>...</td>\n",
       "      <td>STREET</td>\n",
       "      <td>1144064</td>\n",
       "      <td>1904203</td>\n",
       "      <td>0334</td>\n",
       "      <td>03</td>\n",
       "      <td>ROBBERY</td>\n",
       "      <td>True</td>\n",
       "      <td>41.893157</td>\n",
       "      <td>-87.746359</td>\n",
       "      <td>False</td>\n",
       "    </tr>\n",
       "    <tr>\n",
       "      <td>9</td>\n",
       "      <td>10803002</td>\n",
       "      <td>2016-12-31T23:45:00.000</td>\n",
       "      <td>31</td>\n",
       "      <td>12</td>\n",
       "      <td>2016</td>\n",
       "      <td>23:45:00.000</td>\n",
       "      <td>23</td>\n",
       "      <td>1231</td>\n",
       "      <td>5</td>\n",
       "      <td>19</td>\n",
       "      <td>...</td>\n",
       "      <td>SIDEWALK</td>\n",
       "      <td>1165426</td>\n",
       "      <td>1921325</td>\n",
       "      <td>0320</td>\n",
       "      <td>03</td>\n",
       "      <td>ROBBERY</td>\n",
       "      <td>False</td>\n",
       "      <td>41.939713</td>\n",
       "      <td>-87.667416</td>\n",
       "      <td>False</td>\n",
       "    </tr>\n",
       "  </tbody>\n",
       "</table>\n",
       "<p>10 rows × 25 columns</p>\n",
       "</div>"
      ],
      "text/plain": [
       "         id                     date  day  month  year          time  hour  \\\n",
       "0  10819224  2016-12-31T23:59:00.000   31     12  2016  23:59:00.000    23   \n",
       "1  10801137  2016-12-31T23:58:00.000   31     12  2016  23:58:00.000    23   \n",
       "2  10801110  2016-12-31T23:55:00.000   31     12  2016  23:55:00.000    23   \n",
       "3  10802006  2016-12-31T23:55:00.000   31     12  2016  23:55:00.000    23   \n",
       "4  10801865  2016-12-31T23:54:00.000   31     12  2016  23:54:00.000    23   \n",
       "5  10802735  2016-12-31T23:50:00.000   31     12  2016  23:50:00.000    23   \n",
       "6  10801291  2016-12-31T23:50:00.000   31     12  2016  23:50:00.000    23   \n",
       "7  10801171  2016-12-31T23:47:00.000   31     12  2016  23:47:00.000    23   \n",
       "8  10801143  2016-12-31T23:45:00.000   31     12  2016  23:45:00.000    23   \n",
       "9  10803002  2016-12-31T23:45:00.000   31     12  2016  23:45:00.000    23   \n",
       "\n",
       "   month_day  day_of_week  district  ...  \\\n",
       "0       1231            5        16  ...   \n",
       "1       1231            5         5  ...   \n",
       "2       1231            5        19  ...   \n",
       "3       1231            5         1  ...   \n",
       "4       1231            5         6  ...   \n",
       "5       1231            5        17  ...   \n",
       "6       1231            5        14  ...   \n",
       "7       1231            5         1  ...   \n",
       "8       1231            5        15  ...   \n",
       "9       1231            5        19  ...   \n",
       "\n",
       "                          location_description  x_coordinate  y_coordinate  \\\n",
       "0  AIRPORT BUILDING NON-TERMINAL - SECURE AREA       1100658       1934241   \n",
       "1                                    RESIDENCE       1178014       1829709   \n",
       "2                                    RESIDENCE       1166154       1920300   \n",
       "3                                  HOTEL/MOTEL       1176964       1902140   \n",
       "4                                    RESIDENCE       1178949       1853139   \n",
       "5                                        ALLEY       1147645       1927783   \n",
       "6                                    RESIDENCE       1152529       1911998   \n",
       "7                                  HOTEL/MOTEL       1177683       1902638   \n",
       "8                                       STREET       1144064       1904203   \n",
       "9                                     SIDEWALK       1165426       1921325   \n",
       "\n",
       "   iucr fbi_code          primary_type  domestic   latitude  longitude arrest  \n",
       "0  0810       06                 THEFT     False  41.976290 -87.905227  False  \n",
       "1  0430      04B               BATTERY     False  41.688033 -87.623931  False  \n",
       "2  2250       22  LIQUOR LAW VIOLATION     False  41.936885 -87.664770   True  \n",
       "3  0486      08B               BATTERY      True  41.886815 -87.625593  False  \n",
       "4  1310       14       CRIMINAL DAMAGE      True  41.752307 -87.619798  False  \n",
       "5  031A       03               ROBBERY     False  41.957795 -87.732601  False  \n",
       "6  0460      08B               BATTERY     False  41.914384 -87.715064  False  \n",
       "7  0486      08B               BATTERY      True  41.888165 -87.622937  False  \n",
       "8  0334       03               ROBBERY      True  41.893157 -87.746359  False  \n",
       "9  0320       03               ROBBERY     False  41.939713 -87.667416  False  \n",
       "\n",
       "[10 rows x 25 columns]"
      ]
     },
     "execution_count": 144,
     "metadata": {},
     "output_type": "execute_result"
    }
   ],
   "source": [
    "training_data.head(10)"
   ]
  },
  {
   "cell_type": "code",
   "execution_count": 202,
   "metadata": {},
   "outputs": [
    {
     "data": {
      "text/plain": [
       "32"
      ]
     },
     "execution_count": 202,
     "metadata": {},
     "output_type": "execute_result"
    }
   ],
   "source": [
    "primary_type"
   ]
  },
  {
   "cell_type": "code",
   "execution_count": 249,
   "metadata": {},
   "outputs": [
    {
     "name": "stdout",
     "output_type": "stream",
     "text": [
      "[0]\n"
     ]
    }
   ],
   "source": [
    "month = 6\n",
    "hour = 10\n",
    "day_of_week = 4\n",
    "location_description = loc_dict.get('AIRPORT BUILDING NON-TERMINAL - SECURE AREA')\n",
    "primary_type =type_dict.get('BURGLARY')\n",
    "        \n",
    "filename='RF_model.sav'\n",
    "model = joblib.load(filename)\n",
    "print(model.predict([[month, hour, day_of_week,location_description,primary_type]]))"
   ]
  },
  {
   "cell_type": "code",
   "execution_count": 221,
   "metadata": {},
   "outputs": [
    {
     "name": "stdout",
     "output_type": "stream",
     "text": [
      "Accuracy of MLPClassifier : 0.8651429446502235\n",
      "Test Acc: 0.874\n",
      "              precision    recall  f1-score   support\n",
      "\n",
      "           0       0.88      0.98      0.92     83112\n",
      "           1       0.84      0.48      0.61     21369\n",
      "\n",
      "    accuracy                           0.87    104481\n",
      "   macro avg       0.86      0.73      0.77    104481\n",
      "weighted avg       0.87      0.87      0.86    104481\n",
      "\n"
     ]
    }
   ],
   "source": [
    "#Printing the accuracy\n",
    "print('Accuracy of MLPClassifier :', accuracy(cm))\n",
    "print('Test Acc: %.3f' % model.score(X_test_scaled, y_test))\n",
    "y_pred = model.predict(X_test_scaled)\n",
    "print(classification_report(y_test, y_pred))"
   ]
  },
  {
   "cell_type": "code",
   "execution_count": 247,
   "metadata": {},
   "outputs": [],
   "source": [
    "file = os.path.join(\"..\",\"Resources\", \"loc_dict.txt\") \n",
    "f = open(file,\"w\")\n",
    "f.write(str(loc_dict))\n",
    "f.close()"
   ]
  },
  {
   "cell_type": "code",
   "execution_count": 248,
   "metadata": {},
   "outputs": [],
   "source": [
    "file = os.path.join(\"..\",\"Resources\", \"type_dict.txt\") \n",
    "f = open(file,\"w\")\n",
    "f.write(str(type_dict))\n",
    "f.close()"
   ]
  },
  {
   "cell_type": "code",
   "execution_count": 222,
   "metadata": {},
   "outputs": [
    {
     "data": {
      "text/html": [
       "<div>\n",
       "<style scoped>\n",
       "    .dataframe tbody tr th:only-of-type {\n",
       "        vertical-align: middle;\n",
       "    }\n",
       "\n",
       "    .dataframe tbody tr th {\n",
       "        vertical-align: top;\n",
       "    }\n",
       "\n",
       "    .dataframe thead th {\n",
       "        text-align: right;\n",
       "    }\n",
       "</style>\n",
       "<table border=\"1\" class=\"dataframe\">\n",
       "  <thead>\n",
       "    <tr style=\"text-align: right;\">\n",
       "      <th></th>\n",
       "      <th>month</th>\n",
       "      <th>hour</th>\n",
       "      <th>day_of_week</th>\n",
       "      <th>location_description</th>\n",
       "      <th>primary_type</th>\n",
       "    </tr>\n",
       "  </thead>\n",
       "  <tbody>\n",
       "    <tr>\n",
       "      <td>129660</td>\n",
       "      <td>7</td>\n",
       "      <td>18</td>\n",
       "      <td>2</td>\n",
       "      <td>132</td>\n",
       "      <td>32</td>\n",
       "    </tr>\n",
       "    <tr>\n",
       "      <td>70972</td>\n",
       "      <td>9</td>\n",
       "      <td>13</td>\n",
       "      <td>1</td>\n",
       "      <td>69</td>\n",
       "      <td>32</td>\n",
       "    </tr>\n",
       "    <tr>\n",
       "      <td>109138</td>\n",
       "      <td>7</td>\n",
       "      <td>12</td>\n",
       "      <td>0</td>\n",
       "      <td>17</td>\n",
       "      <td>9</td>\n",
       "    </tr>\n",
       "    <tr>\n",
       "      <td>151727</td>\n",
       "      <td>6</td>\n",
       "      <td>7</td>\n",
       "      <td>2</td>\n",
       "      <td>132</td>\n",
       "      <td>3</td>\n",
       "    </tr>\n",
       "    <tr>\n",
       "      <td>186079</td>\n",
       "      <td>4</td>\n",
       "      <td>22</td>\n",
       "      <td>3</td>\n",
       "      <td>124</td>\n",
       "      <td>8</td>\n",
       "    </tr>\n",
       "    <tr>\n",
       "      <td>...</td>\n",
       "      <td>...</td>\n",
       "      <td>...</td>\n",
       "      <td>...</td>\n",
       "      <td>...</td>\n",
       "      <td>...</td>\n",
       "    </tr>\n",
       "    <tr>\n",
       "      <td>93751</td>\n",
       "      <td>8</td>\n",
       "      <td>22</td>\n",
       "      <td>5</td>\n",
       "      <td>157</td>\n",
       "      <td>32</td>\n",
       "    </tr>\n",
       "    <tr>\n",
       "      <td>58597</td>\n",
       "      <td>10</td>\n",
       "      <td>12</td>\n",
       "      <td>4</td>\n",
       "      <td>154</td>\n",
       "      <td>32</td>\n",
       "    </tr>\n",
       "    <tr>\n",
       "      <td>171551</td>\n",
       "      <td>5</td>\n",
       "      <td>9</td>\n",
       "      <td>0</td>\n",
       "      <td>124</td>\n",
       "      <td>32</td>\n",
       "    </tr>\n",
       "    <tr>\n",
       "      <td>250085</td>\n",
       "      <td>1</td>\n",
       "      <td>10</td>\n",
       "      <td>1</td>\n",
       "      <td>15</td>\n",
       "      <td>18</td>\n",
       "    </tr>\n",
       "    <tr>\n",
       "      <td>88089</td>\n",
       "      <td>9</td>\n",
       "      <td>11</td>\n",
       "      <td>3</td>\n",
       "      <td>139</td>\n",
       "      <td>6</td>\n",
       "    </tr>\n",
       "  </tbody>\n",
       "</table>\n",
       "<p>104481 rows × 5 columns</p>\n",
       "</div>"
      ],
      "text/plain": [
       "        month  hour  day_of_week  location_description  primary_type\n",
       "129660      7    18            2                   132            32\n",
       "70972       9    13            1                    69            32\n",
       "109138      7    12            0                    17             9\n",
       "151727      6     7            2                   132             3\n",
       "186079      4    22            3                   124             8\n",
       "...       ...   ...          ...                   ...           ...\n",
       "93751       8    22            5                   157            32\n",
       "58597      10    12            4                   154            32\n",
       "171551      5     9            0                   124            32\n",
       "250085      1    10            1                    15            18\n",
       "88089       9    11            3                   139             6\n",
       "\n",
       "[104481 rows x 5 columns]"
      ]
     },
     "execution_count": 222,
     "metadata": {},
     "output_type": "execute_result"
    }
   ],
   "source": [
    "X_test"
   ]
  }
 ],
 "metadata": {
  "kernelspec": {
   "display_name": "Python 3",
   "language": "python",
   "name": "python3"
  },
  "language_info": {
   "codemirror_mode": {
    "name": "ipython",
    "version": 3
   },
   "file_extension": ".py",
   "mimetype": "text/x-python",
   "name": "python",
   "nbconvert_exporter": "python",
   "pygments_lexer": "ipython3",
   "version": "3.6.9"
  }
 },
 "nbformat": 4,
 "nbformat_minor": 2
}
